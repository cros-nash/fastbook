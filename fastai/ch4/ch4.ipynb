{
 "cells": [
  {
   "cell_type": "code",
   "execution_count": 750,
   "metadata": {},
   "outputs": [],
   "source": [
    "#hide\n",
    "from fastai.vision.all import *\n",
    "from fastbook import *\n",
    "\n",
    "matplotlib.rc('image', cmap='Greys')"
   ]
  },
  {
   "cell_type": "markdown",
   "metadata": {},
   "source": [
    "Initial model: create a model that can classify any image as a 3 or a 7"
   ]
  },
  {
   "cell_type": "markdown",
   "metadata": {},
   "source": [
    "The code blow downloads a sample of MNIST that contains images of just these digits"
   ]
  },
  {
   "cell_type": "code",
   "execution_count": 751,
   "metadata": {},
   "outputs": [],
   "source": [
    "path = untar_data(URLs.MNIST_SAMPLE)"
   ]
  },
  {
   "cell_type": "code",
   "execution_count": 752,
   "metadata": {},
   "outputs": [],
   "source": [
    "Path.BASE_PATH = path"
   ]
  },
  {
   "cell_type": "code",
   "execution_count": 753,
   "metadata": {},
   "outputs": [
    {
     "data": {
      "text/plain": [
       "(#3) [Path('valid'),Path('train'),Path('labels.csv')]"
      ]
     },
     "execution_count": 753,
     "metadata": {},
     "output_type": "execute_result"
    }
   ],
   "source": [
    "path.ls()"
   ]
  },
  {
   "cell_type": "markdown",
   "metadata": {},
   "source": [
    "The MNIST dataset follows a common layout for machine learning datasets: separate folders for the training set and the validation set (and/or test set)."
   ]
  },
  {
   "cell_type": "code",
   "execution_count": 754,
   "metadata": {},
   "outputs": [
    {
     "data": {
      "text/plain": [
       "(#2) [Path('train/3'),Path('train/7')]"
      ]
     },
     "execution_count": 754,
     "metadata": {},
     "output_type": "execute_result"
    }
   ],
   "source": [
    "(path/'train').ls()"
   ]
  },
  {
   "cell_type": "markdown",
   "metadata": {},
   "source": [
    "There's a folder of 3s, and a folder of 7s. In machine learning parlance, we say that \"3\" and \"7\" are the *labels* (or targets) in this dataset.\n",
    "\n",
    "were using sorted to make sure we get same order of files"
   ]
  },
  {
   "cell_type": "code",
   "execution_count": 755,
   "metadata": {},
   "outputs": [
    {
     "data": {
      "text/plain": [
       "(#6131) [Path('train/3/10.png'),Path('train/3/10000.png'),Path('train/3/10011.png'),Path('train/3/10031.png'),Path('train/3/10034.png'),Path('train/3/10042.png'),Path('train/3/10052.png'),Path('train/3/1007.png'),Path('train/3/10074.png'),Path('train/3/10091.png')...]"
      ]
     },
     "execution_count": 755,
     "metadata": {},
     "output_type": "execute_result"
    }
   ],
   "source": [
    "threes = (path/'train'/'3').ls().sorted()\n",
    "sevens = (path/'train'/'7').ls().sorted()\n",
    "threes"
   ]
  },
  {
   "cell_type": "markdown",
   "metadata": {},
   "source": [
    "now we just wanna see what one of the images looks like"
   ]
  },
  {
   "cell_type": "code",
   "execution_count": 756,
   "metadata": {},
   "outputs": [
    {
     "data": {
      "image/jpeg": "[encoded data removed]",
      "image/png": "[encoded data removed]",
      "text/plain": [
       "<PIL.PngImagePlugin.PngImageFile image mode=L size=28x28>"
      ]
     },
     "execution_count": 756,
     "metadata": {},
     "output_type": "execute_result"
    }
   ],
   "source": [
    "im3_path = threes[1]\n",
    "im3 = Image.open(im3_path)\n",
    "im3"
   ]
  },
  {
   "cell_type": "markdown",
   "metadata": {},
   "source": [
    "this uses the Image class from Python Imaging Library (PIL)\n",
    "to see the numbers that make up the image, we convert it to a NumPy array / PyTorch tensor"
   ]
  },
  {
   "cell_type": "code",
   "execution_count": 757,
   "metadata": {},
   "outputs": [
    {
     "data": {
      "text/plain": [
       "array([[  0,   0,   0,   0,   0,   0],\n",
       "       [  0,   0,   0,   0,   0,  29],\n",
       "       [  0,   0,   0,  48, 166, 224],\n",
       "       [  0,  93, 244, 249, 253, 187],\n",
       "       [  0, 107, 253, 253, 230,  48],\n",
       "       [  0,   3,  20,  20,  15,   0]], dtype=uint8)"
      ]
     },
     "execution_count": 757,
     "metadata": {},
     "output_type": "execute_result"
    }
   ],
   "source": [
    "array(im3)[4:10,4:10]"
   ]
  },
  {
   "cell_type": "markdown",
   "metadata": {},
   "source": [
    "This just shows a section of the image because of the 4:10\n",
    "\n",
    "Here's the same thing as a pytorch tensor:"
   ]
  },
  {
   "cell_type": "code",
   "execution_count": 758,
   "metadata": {},
   "outputs": [
    {
     "data": {
      "text/plain": [
       "tensor([[  0,   0,   0,   0,   0,   0],\n",
       "        [  0,   0,   0,   0,   0,  29],\n",
       "        [  0,   0,   0,  48, 166, 224],\n",
       "        [  0,  93, 244, 249, 253, 187],\n",
       "        [  0, 107, 253, 253, 230,  48],\n",
       "        [  0,   3,  20,  20,  15,   0]], dtype=torch.uint8)"
      ]
     },
     "execution_count": 758,
     "metadata": {},
     "output_type": "execute_result"
    }
   ],
   "source": [
    "tensor(im3)[4:10,4:10]"
   ]
  },
  {
   "cell_type": "markdown",
   "metadata": {},
   "source": [
    "We can slice the array to pick just the part with the top of the digit in it\n",
    "Then we can use pandas datafram to color-code using a gradient:"
   ]
  },
  {
   "cell_type": "code",
   "execution_count": 759,
   "metadata": {},
   "outputs": [
    {
     "data": {
      "text/html": [
       "<style type=\"text/css\">\n",
       "#T_26368_row0_col0, #T_26368_row0_col1, #T_26368_row0_col2, #T_26368_row0_col3, #T_26368_row0_col4, #T_26368_row0_col5, #T_26368_row0_col6, #T_26368_row0_col7, #T_26368_row0_col8, #T_26368_row0_col9, #T_26368_row0_col10, #T_26368_row0_col11, #T_26368_row0_col12, #T_26368_row0_col13, #T_26368_row0_col14, #T_26368_row0_col15, #T_26368_row0_col16, #T_26368_row0_col17, #T_26368_row1_col0, #T_26368_row1_col1, #T_26368_row1_col2, #T_26368_row1_col3, #T_26368_row1_col4, #T_26368_row1_col15, #T_26368_row1_col16, #T_26368_row1_col17, #T_26368_row2_col0, #T_26368_row2_col1, #T_26368_row2_col2, #T_26368_row2_col15, #T_26368_row2_col16, #T_26368_row2_col17, #T_26368_row3_col0, #T_26368_row3_col15, #T_26368_row3_col16, #T_26368_row3_col17, #T_26368_row4_col0, #T_26368_row4_col6, #T_26368_row4_col7, #T_26368_row4_col8, #T_26368_row4_col9, #T_26368_row4_col10, #T_26368_row4_col15, #T_26368_row4_col16, #T_26368_row4_col17, #T_26368_row5_col0, #T_26368_row5_col5, #T_26368_row5_col6, #T_26368_row5_col7, #T_26368_row5_col8, #T_26368_row5_col9, #T_26368_row5_col15, #T_26368_row5_col16, #T_26368_row5_col17, #T_26368_row6_col0, #T_26368_row6_col1, #T_26368_row6_col2, #T_26368_row6_col3, #T_26368_row6_col4, #T_26368_row6_col5, #T_26368_row6_col6, #T_26368_row6_col7, #T_26368_row6_col8, #T_26368_row6_col9, #T_26368_row6_col14, #T_26368_row6_col15, #T_26368_row6_col16, #T_26368_row6_col17, #T_26368_row7_col0, #T_26368_row7_col1, #T_26368_row7_col2, #T_26368_row7_col3, #T_26368_row7_col4, #T_26368_row7_col5, #T_26368_row7_col6, #T_26368_row7_col13, #T_26368_row7_col14, #T_26368_row7_col15, #T_26368_row7_col16, #T_26368_row7_col17, #T_26368_row8_col0, #T_26368_row8_col1, #T_26368_row8_col2, #T_26368_row8_col3, #T_26368_row8_col4, #T_26368_row8_col13, #T_26368_row8_col14, #T_26368_row8_col15, #T_26368_row8_col16, #T_26368_row8_col17, #T_26368_row9_col0, #T_26368_row9_col1, #T_26368_row9_col2, #T_26368_row9_col3, #T_26368_row9_col4, #T_26368_row9_col16, #T_26368_row9_col17, #T_26368_row10_col0, #T_26368_row10_col1, #T_26368_row10_col2, #T_26368_row10_col3, #T_26368_row10_col4, #T_26368_row10_col5, #T_26368_row10_col6, #T_26368_row10_col17 {\n",
       "  font-size: 6pt;\n",
       "  background-color: #ffffff;\n",
       "  color: #000000;\n",
       "}\n",
       "#T_26368_row1_col5 {\n",
       "  font-size: 6pt;\n",
       "  background-color: #efefef;\n",
       "  color: #000000;\n",
       "}\n",
       "#T_26368_row1_col6, #T_26368_row1_col13 {\n",
       "  font-size: 6pt;\n",
       "  background-color: #7c7c7c;\n",
       "  color: #f1f1f1;\n",
       "}\n",
       "#T_26368_row1_col7 {\n",
       "  font-size: 6pt;\n",
       "  background-color: #4a4a4a;\n",
       "  color: #f1f1f1;\n",
       "}\n",
       "#T_26368_row1_col8, #T_26368_row1_col9, #T_26368_row1_col10, #T_26368_row2_col5, #T_26368_row2_col6, #T_26368_row2_col7, #T_26368_row2_col11, #T_26368_row2_col12, #T_26368_row2_col13, #T_26368_row3_col4, #T_26368_row3_col12, #T_26368_row3_col13, #T_26368_row4_col1, #T_26368_row4_col2, #T_26368_row4_col3, #T_26368_row4_col12, #T_26368_row4_col13, #T_26368_row5_col12, #T_26368_row6_col11, #T_26368_row9_col11, #T_26368_row10_col11, #T_26368_row10_col12, #T_26368_row10_col13, #T_26368_row10_col14, #T_26368_row10_col15, #T_26368_row10_col16 {\n",
       "  font-size: 6pt;\n",
       "  background-color: #000000;\n",
       "  color: #f1f1f1;\n",
       "}\n",
       "#T_26368_row1_col11 {\n",
       "  font-size: 6pt;\n",
       "  background-color: #606060;\n",
       "  color: #f1f1f1;\n",
       "}\n",
       "#T_26368_row1_col12 {\n",
       "  font-size: 6pt;\n",
       "  background-color: #4d4d4d;\n",
       "  color: #f1f1f1;\n",
       "}\n",
       "#T_26368_row1_col14 {\n",
       "  font-size: 6pt;\n",
       "  background-color: #bbbbbb;\n",
       "  color: #000000;\n",
       "}\n",
       "#T_26368_row2_col3 {\n",
       "  font-size: 6pt;\n",
       "  background-color: #e4e4e4;\n",
       "  color: #000000;\n",
       "}\n",
       "#T_26368_row2_col4, #T_26368_row8_col6 {\n",
       "  font-size: 6pt;\n",
       "  background-color: #6b6b6b;\n",
       "  color: #f1f1f1;\n",
       "}\n",
       "#T_26368_row2_col8, #T_26368_row2_col14, #T_26368_row3_col14 {\n",
       "  font-size: 6pt;\n",
       "  background-color: #171717;\n",
       "  color: #f1f1f1;\n",
       "}\n",
       "#T_26368_row2_col9, #T_26368_row3_col11 {\n",
       "  font-size: 6pt;\n",
       "  background-color: #4b4b4b;\n",
       "  color: #f1f1f1;\n",
       "}\n",
       "#T_26368_row2_col10, #T_26368_row7_col10, #T_26368_row8_col8, #T_26368_row8_col10, #T_26368_row9_col8, #T_26368_row9_col10 {\n",
       "  font-size: 6pt;\n",
       "  background-color: #010101;\n",
       "  color: #f1f1f1;\n",
       "}\n",
       "#T_26368_row3_col1 {\n",
       "  font-size: 6pt;\n",
       "  background-color: #272727;\n",
       "  color: #f1f1f1;\n",
       "}\n",
       "#T_26368_row3_col2 {\n",
       "  font-size: 6pt;\n",
       "  background-color: #0a0a0a;\n",
       "  color: #f1f1f1;\n",
       "}\n",
       "#T_26368_row3_col3 {\n",
       "  font-size: 6pt;\n",
       "  background-color: #050505;\n",
       "  color: #f1f1f1;\n",
       "}\n",
       "#T_26368_row3_col5 {\n",
       "  font-size: 6pt;\n",
       "  background-color: #333333;\n",
       "  color: #f1f1f1;\n",
       "}\n",
       "#T_26368_row3_col6 {\n",
       "  font-size: 6pt;\n",
       "  background-color: #e6e6e6;\n",
       "  color: #000000;\n",
       "}\n",
       "#T_26368_row3_col7, #T_26368_row3_col10 {\n",
       "  font-size: 6pt;\n",
       "  background-color: #fafafa;\n",
       "  color: #000000;\n",
       "}\n",
       "#T_26368_row3_col8 {\n",
       "  font-size: 6pt;\n",
       "  background-color: #fbfbfb;\n",
       "  color: #000000;\n",
       "}\n",
       "#T_26368_row3_col9 {\n",
       "  font-size: 6pt;\n",
       "  background-color: #fdfdfd;\n",
       "  color: #000000;\n",
       "}\n",
       "#T_26368_row4_col4 {\n",
       "  font-size: 6pt;\n",
       "  background-color: #1b1b1b;\n",
       "  color: #f1f1f1;\n",
       "}\n",
       "#T_26368_row4_col5 {\n",
       "  font-size: 6pt;\n",
       "  background-color: #e0e0e0;\n",
       "  color: #000000;\n",
       "}\n",
       "#T_26368_row4_col11 {\n",
       "  font-size: 6pt;\n",
       "  background-color: #4e4e4e;\n",
       "  color: #f1f1f1;\n",
       "}\n",
       "#T_26368_row4_col14 {\n",
       "  font-size: 6pt;\n",
       "  background-color: #767676;\n",
       "  color: #f1f1f1;\n",
       "}\n",
       "#T_26368_row5_col1 {\n",
       "  font-size: 6pt;\n",
       "  background-color: #fcfcfc;\n",
       "  color: #000000;\n",
       "}\n",
       "#T_26368_row5_col2, #T_26368_row5_col3 {\n",
       "  font-size: 6pt;\n",
       "  background-color: #f6f6f6;\n",
       "  color: #000000;\n",
       "}\n",
       "#T_26368_row5_col4, #T_26368_row7_col7 {\n",
       "  font-size: 6pt;\n",
       "  background-color: #f8f8f8;\n",
       "  color: #000000;\n",
       "}\n",
       "#T_26368_row5_col10, #T_26368_row10_col7 {\n",
       "  font-size: 6pt;\n",
       "  background-color: #e8e8e8;\n",
       "  color: #000000;\n",
       "}\n",
       "#T_26368_row5_col11 {\n",
       "  font-size: 6pt;\n",
       "  background-color: #222222;\n",
       "  color: #f1f1f1;\n",
       "}\n",
       "#T_26368_row5_col13, #T_26368_row6_col12 {\n",
       "  font-size: 6pt;\n",
       "  background-color: #090909;\n",
       "  color: #f1f1f1;\n",
       "}\n",
       "#T_26368_row5_col14 {\n",
       "  font-size: 6pt;\n",
       "  background-color: #d0d0d0;\n",
       "  color: #000000;\n",
       "}\n",
       "#T_26368_row6_col10, #T_26368_row7_col11, #T_26368_row9_col6 {\n",
       "  font-size: 6pt;\n",
       "  background-color: #060606;\n",
       "  color: #f1f1f1;\n",
       "}\n",
       "#T_26368_row6_col13 {\n",
       "  font-size: 6pt;\n",
       "  background-color: #979797;\n",
       "  color: #f1f1f1;\n",
       "}\n",
       "#T_26368_row7_col8 {\n",
       "  font-size: 6pt;\n",
       "  background-color: #b6b6b6;\n",
       "  color: #000000;\n",
       "}\n",
       "#T_26368_row7_col9 {\n",
       "  font-size: 6pt;\n",
       "  background-color: #252525;\n",
       "  color: #f1f1f1;\n",
       "}\n",
       "#T_26368_row7_col12 {\n",
       "  font-size: 6pt;\n",
       "  background-color: #999999;\n",
       "  color: #f1f1f1;\n",
       "}\n",
       "#T_26368_row8_col5 {\n",
       "  font-size: 6pt;\n",
       "  background-color: #f9f9f9;\n",
       "  color: #000000;\n",
       "}\n",
       "#T_26368_row8_col7 {\n",
       "  font-size: 6pt;\n",
       "  background-color: #101010;\n",
       "  color: #f1f1f1;\n",
       "}\n",
       "#T_26368_row8_col9, #T_26368_row9_col9 {\n",
       "  font-size: 6pt;\n",
       "  background-color: #020202;\n",
       "  color: #f1f1f1;\n",
       "}\n",
       "#T_26368_row8_col11 {\n",
       "  font-size: 6pt;\n",
       "  background-color: #545454;\n",
       "  color: #f1f1f1;\n",
       "}\n",
       "#T_26368_row8_col12 {\n",
       "  font-size: 6pt;\n",
       "  background-color: #f1f1f1;\n",
       "  color: #000000;\n",
       "}\n",
       "#T_26368_row9_col5 {\n",
       "  font-size: 6pt;\n",
       "  background-color: #f7f7f7;\n",
       "  color: #000000;\n",
       "}\n",
       "#T_26368_row9_col7 {\n",
       "  font-size: 6pt;\n",
       "  background-color: #030303;\n",
       "  color: #f1f1f1;\n",
       "}\n",
       "#T_26368_row9_col12 {\n",
       "  font-size: 6pt;\n",
       "  background-color: #181818;\n",
       "  color: #f1f1f1;\n",
       "}\n",
       "#T_26368_row9_col13 {\n",
       "  font-size: 6pt;\n",
       "  background-color: #303030;\n",
       "  color: #f1f1f1;\n",
       "}\n",
       "#T_26368_row9_col14 {\n",
       "  font-size: 6pt;\n",
       "  background-color: #a9a9a9;\n",
       "  color: #f1f1f1;\n",
       "}\n",
       "#T_26368_row9_col15 {\n",
       "  font-size: 6pt;\n",
       "  background-color: #fefefe;\n",
       "  color: #000000;\n",
       "}\n",
       "#T_26368_row10_col8, #T_26368_row10_col9 {\n",
       "  font-size: 6pt;\n",
       "  background-color: #bababa;\n",
       "  color: #000000;\n",
       "}\n",
       "#T_26368_row10_col10 {\n",
       "  font-size: 6pt;\n",
       "  background-color: #393939;\n",
       "  color: #f1f1f1;\n",
       "}\n",
       "</style>\n",
       "<table id=\"T_26368\">\n",
       "  <thead>\n",
       "    <tr>\n",
       "      <th class=\"blank level0\" >&nbsp;</th>\n",
       "      <th id=\"T_26368_level0_col0\" class=\"col_heading level0 col0\" >0</th>\n",
       "      <th id=\"T_26368_level0_col1\" class=\"col_heading level0 col1\" >1</th>\n",
       "      <th id=\"T_26368_level0_col2\" class=\"col_heading level0 col2\" >2</th>\n",
       "      <th id=\"T_26368_level0_col3\" class=\"col_heading level0 col3\" >3</th>\n",
       "      <th id=\"T_26368_level0_col4\" class=\"col_heading level0 col4\" >4</th>\n",
       "      <th id=\"T_26368_level0_col5\" class=\"col_heading level0 col5\" >5</th>\n",
       "      <th id=\"T_26368_level0_col6\" class=\"col_heading level0 col6\" >6</th>\n",
       "      <th id=\"T_26368_level0_col7\" class=\"col_heading level0 col7\" >7</th>\n",
       "      <th id=\"T_26368_level0_col8\" class=\"col_heading level0 col8\" >8</th>\n",
       "      <th id=\"T_26368_level0_col9\" class=\"col_heading level0 col9\" >9</th>\n",
       "      <th id=\"T_26368_level0_col10\" class=\"col_heading level0 col10\" >10</th>\n",
       "      <th id=\"T_26368_level0_col11\" class=\"col_heading level0 col11\" >11</th>\n",
       "      <th id=\"T_26368_level0_col12\" class=\"col_heading level0 col12\" >12</th>\n",
       "      <th id=\"T_26368_level0_col13\" class=\"col_heading level0 col13\" >13</th>\n",
       "      <th id=\"T_26368_level0_col14\" class=\"col_heading level0 col14\" >14</th>\n",
       "      <th id=\"T_26368_level0_col15\" class=\"col_heading level0 col15\" >15</th>\n",
       "      <th id=\"T_26368_level0_col16\" class=\"col_heading level0 col16\" >16</th>\n",
       "      <th id=\"T_26368_level0_col17\" class=\"col_heading level0 col17\" >17</th>\n",
       "    </tr>\n",
       "  </thead>\n",
       "  <tbody>\n",
       "    <tr>\n",
       "      <th id=\"T_26368_level0_row0\" class=\"row_heading level0 row0\" >0</th>\n",
       "      <td id=\"T_26368_row0_col0\" class=\"data row0 col0\" >0</td>\n",
       "      <td id=\"T_26368_row0_col1\" class=\"data row0 col1\" >0</td>\n",
       "      <td id=\"T_26368_row0_col2\" class=\"data row0 col2\" >0</td>\n",
       "      <td id=\"T_26368_row0_col3\" class=\"data row0 col3\" >0</td>\n",
       "      <td id=\"T_26368_row0_col4\" class=\"data row0 col4\" >0</td>\n",
       "      <td id=\"T_26368_row0_col5\" class=\"data row0 col5\" >0</td>\n",
       "      <td id=\"T_26368_row0_col6\" class=\"data row0 col6\" >0</td>\n",
       "      <td id=\"T_26368_row0_col7\" class=\"data row0 col7\" >0</td>\n",
       "      <td id=\"T_26368_row0_col8\" class=\"data row0 col8\" >0</td>\n",
       "      <td id=\"T_26368_row0_col9\" class=\"data row0 col9\" >0</td>\n",
       "      <td id=\"T_26368_row0_col10\" class=\"data row0 col10\" >0</td>\n",
       "      <td id=\"T_26368_row0_col11\" class=\"data row0 col11\" >0</td>\n",
       "      <td id=\"T_26368_row0_col12\" class=\"data row0 col12\" >0</td>\n",
       "      <td id=\"T_26368_row0_col13\" class=\"data row0 col13\" >0</td>\n",
       "      <td id=\"T_26368_row0_col14\" class=\"data row0 col14\" >0</td>\n",
       "      <td id=\"T_26368_row0_col15\" class=\"data row0 col15\" >0</td>\n",
       "      <td id=\"T_26368_row0_col16\" class=\"data row0 col16\" >0</td>\n",
       "      <td id=\"T_26368_row0_col17\" class=\"data row0 col17\" >0</td>\n",
       "    </tr>\n",
       "    <tr>\n",
       "      <th id=\"T_26368_level0_row1\" class=\"row_heading level0 row1\" >1</th>\n",
       "      <td id=\"T_26368_row1_col0\" class=\"data row1 col0\" >0</td>\n",
       "      <td id=\"T_26368_row1_col1\" class=\"data row1 col1\" >0</td>\n",
       "      <td id=\"T_26368_row1_col2\" class=\"data row1 col2\" >0</td>\n",
       "      <td id=\"T_26368_row1_col3\" class=\"data row1 col3\" >0</td>\n",
       "      <td id=\"T_26368_row1_col4\" class=\"data row1 col4\" >0</td>\n",
       "      <td id=\"T_26368_row1_col5\" class=\"data row1 col5\" >29</td>\n",
       "      <td id=\"T_26368_row1_col6\" class=\"data row1 col6\" >150</td>\n",
       "      <td id=\"T_26368_row1_col7\" class=\"data row1 col7\" >195</td>\n",
       "      <td id=\"T_26368_row1_col8\" class=\"data row1 col8\" >254</td>\n",
       "      <td id=\"T_26368_row1_col9\" class=\"data row1 col9\" >255</td>\n",
       "      <td id=\"T_26368_row1_col10\" class=\"data row1 col10\" >254</td>\n",
       "      <td id=\"T_26368_row1_col11\" class=\"data row1 col11\" >176</td>\n",
       "      <td id=\"T_26368_row1_col12\" class=\"data row1 col12\" >193</td>\n",
       "      <td id=\"T_26368_row1_col13\" class=\"data row1 col13\" >150</td>\n",
       "      <td id=\"T_26368_row1_col14\" class=\"data row1 col14\" >96</td>\n",
       "      <td id=\"T_26368_row1_col15\" class=\"data row1 col15\" >0</td>\n",
       "      <td id=\"T_26368_row1_col16\" class=\"data row1 col16\" >0</td>\n",
       "      <td id=\"T_26368_row1_col17\" class=\"data row1 col17\" >0</td>\n",
       "    </tr>\n",
       "    <tr>\n",
       "      <th id=\"T_26368_level0_row2\" class=\"row_heading level0 row2\" >2</th>\n",
       "      <td id=\"T_26368_row2_col0\" class=\"data row2 col0\" >0</td>\n",
       "      <td id=\"T_26368_row2_col1\" class=\"data row2 col1\" >0</td>\n",
       "      <td id=\"T_26368_row2_col2\" class=\"data row2 col2\" >0</td>\n",
       "      <td id=\"T_26368_row2_col3\" class=\"data row2 col3\" >48</td>\n",
       "      <td id=\"T_26368_row2_col4\" class=\"data row2 col4\" >166</td>\n",
       "      <td id=\"T_26368_row2_col5\" class=\"data row2 col5\" >224</td>\n",
       "      <td id=\"T_26368_row2_col6\" class=\"data row2 col6\" >253</td>\n",
       "      <td id=\"T_26368_row2_col7\" class=\"data row2 col7\" >253</td>\n",
       "      <td id=\"T_26368_row2_col8\" class=\"data row2 col8\" >234</td>\n",
       "      <td id=\"T_26368_row2_col9\" class=\"data row2 col9\" >196</td>\n",
       "      <td id=\"T_26368_row2_col10\" class=\"data row2 col10\" >253</td>\n",
       "      <td id=\"T_26368_row2_col11\" class=\"data row2 col11\" >253</td>\n",
       "      <td id=\"T_26368_row2_col12\" class=\"data row2 col12\" >253</td>\n",
       "      <td id=\"T_26368_row2_col13\" class=\"data row2 col13\" >253</td>\n",
       "      <td id=\"T_26368_row2_col14\" class=\"data row2 col14\" >233</td>\n",
       "      <td id=\"T_26368_row2_col15\" class=\"data row2 col15\" >0</td>\n",
       "      <td id=\"T_26368_row2_col16\" class=\"data row2 col16\" >0</td>\n",
       "      <td id=\"T_26368_row2_col17\" class=\"data row2 col17\" >0</td>\n",
       "    </tr>\n",
       "    <tr>\n",
       "      <th id=\"T_26368_level0_row3\" class=\"row_heading level0 row3\" >3</th>\n",
       "      <td id=\"T_26368_row3_col0\" class=\"data row3 col0\" >0</td>\n",
       "      <td id=\"T_26368_row3_col1\" class=\"data row3 col1\" >93</td>\n",
       "      <td id=\"T_26368_row3_col2\" class=\"data row3 col2\" >244</td>\n",
       "      <td id=\"T_26368_row3_col3\" class=\"data row3 col3\" >249</td>\n",
       "      <td id=\"T_26368_row3_col4\" class=\"data row3 col4\" >253</td>\n",
       "      <td id=\"T_26368_row3_col5\" class=\"data row3 col5\" >187</td>\n",
       "      <td id=\"T_26368_row3_col6\" class=\"data row3 col6\" >46</td>\n",
       "      <td id=\"T_26368_row3_col7\" class=\"data row3 col7\" >10</td>\n",
       "      <td id=\"T_26368_row3_col8\" class=\"data row3 col8\" >8</td>\n",
       "      <td id=\"T_26368_row3_col9\" class=\"data row3 col9\" >4</td>\n",
       "      <td id=\"T_26368_row3_col10\" class=\"data row3 col10\" >10</td>\n",
       "      <td id=\"T_26368_row3_col11\" class=\"data row3 col11\" >194</td>\n",
       "      <td id=\"T_26368_row3_col12\" class=\"data row3 col12\" >253</td>\n",
       "      <td id=\"T_26368_row3_col13\" class=\"data row3 col13\" >253</td>\n",
       "      <td id=\"T_26368_row3_col14\" class=\"data row3 col14\" >233</td>\n",
       "      <td id=\"T_26368_row3_col15\" class=\"data row3 col15\" >0</td>\n",
       "      <td id=\"T_26368_row3_col16\" class=\"data row3 col16\" >0</td>\n",
       "      <td id=\"T_26368_row3_col17\" class=\"data row3 col17\" >0</td>\n",
       "    </tr>\n",
       "    <tr>\n",
       "      <th id=\"T_26368_level0_row4\" class=\"row_heading level0 row4\" >4</th>\n",
       "      <td id=\"T_26368_row4_col0\" class=\"data row4 col0\" >0</td>\n",
       "      <td id=\"T_26368_row4_col1\" class=\"data row4 col1\" >107</td>\n",
       "      <td id=\"T_26368_row4_col2\" class=\"data row4 col2\" >253</td>\n",
       "      <td id=\"T_26368_row4_col3\" class=\"data row4 col3\" >253</td>\n",
       "      <td id=\"T_26368_row4_col4\" class=\"data row4 col4\" >230</td>\n",
       "      <td id=\"T_26368_row4_col5\" class=\"data row4 col5\" >48</td>\n",
       "      <td id=\"T_26368_row4_col6\" class=\"data row4 col6\" >0</td>\n",
       "      <td id=\"T_26368_row4_col7\" class=\"data row4 col7\" >0</td>\n",
       "      <td id=\"T_26368_row4_col8\" class=\"data row4 col8\" >0</td>\n",
       "      <td id=\"T_26368_row4_col9\" class=\"data row4 col9\" >0</td>\n",
       "      <td id=\"T_26368_row4_col10\" class=\"data row4 col10\" >0</td>\n",
       "      <td id=\"T_26368_row4_col11\" class=\"data row4 col11\" >192</td>\n",
       "      <td id=\"T_26368_row4_col12\" class=\"data row4 col12\" >253</td>\n",
       "      <td id=\"T_26368_row4_col13\" class=\"data row4 col13\" >253</td>\n",
       "      <td id=\"T_26368_row4_col14\" class=\"data row4 col14\" >156</td>\n",
       "      <td id=\"T_26368_row4_col15\" class=\"data row4 col15\" >0</td>\n",
       "      <td id=\"T_26368_row4_col16\" class=\"data row4 col16\" >0</td>\n",
       "      <td id=\"T_26368_row4_col17\" class=\"data row4 col17\" >0</td>\n",
       "    </tr>\n",
       "    <tr>\n",
       "      <th id=\"T_26368_level0_row5\" class=\"row_heading level0 row5\" >5</th>\n",
       "      <td id=\"T_26368_row5_col0\" class=\"data row5 col0\" >0</td>\n",
       "      <td id=\"T_26368_row5_col1\" class=\"data row5 col1\" >3</td>\n",
       "      <td id=\"T_26368_row5_col2\" class=\"data row5 col2\" >20</td>\n",
       "      <td id=\"T_26368_row5_col3\" class=\"data row5 col3\" >20</td>\n",
       "      <td id=\"T_26368_row5_col4\" class=\"data row5 col4\" >15</td>\n",
       "      <td id=\"T_26368_row5_col5\" class=\"data row5 col5\" >0</td>\n",
       "      <td id=\"T_26368_row5_col6\" class=\"data row5 col6\" >0</td>\n",
       "      <td id=\"T_26368_row5_col7\" class=\"data row5 col7\" >0</td>\n",
       "      <td id=\"T_26368_row5_col8\" class=\"data row5 col8\" >0</td>\n",
       "      <td id=\"T_26368_row5_col9\" class=\"data row5 col9\" >0</td>\n",
       "      <td id=\"T_26368_row5_col10\" class=\"data row5 col10\" >43</td>\n",
       "      <td id=\"T_26368_row5_col11\" class=\"data row5 col11\" >224</td>\n",
       "      <td id=\"T_26368_row5_col12\" class=\"data row5 col12\" >253</td>\n",
       "      <td id=\"T_26368_row5_col13\" class=\"data row5 col13\" >245</td>\n",
       "      <td id=\"T_26368_row5_col14\" class=\"data row5 col14\" >74</td>\n",
       "      <td id=\"T_26368_row5_col15\" class=\"data row5 col15\" >0</td>\n",
       "      <td id=\"T_26368_row5_col16\" class=\"data row5 col16\" >0</td>\n",
       "      <td id=\"T_26368_row5_col17\" class=\"data row5 col17\" >0</td>\n",
       "    </tr>\n",
       "    <tr>\n",
       "      <th id=\"T_26368_level0_row6\" class=\"row_heading level0 row6\" >6</th>\n",
       "      <td id=\"T_26368_row6_col0\" class=\"data row6 col0\" >0</td>\n",
       "      <td id=\"T_26368_row6_col1\" class=\"data row6 col1\" >0</td>\n",
       "      <td id=\"T_26368_row6_col2\" class=\"data row6 col2\" >0</td>\n",
       "      <td id=\"T_26368_row6_col3\" class=\"data row6 col3\" >0</td>\n",
       "      <td id=\"T_26368_row6_col4\" class=\"data row6 col4\" >0</td>\n",
       "      <td id=\"T_26368_row6_col5\" class=\"data row6 col5\" >0</td>\n",
       "      <td id=\"T_26368_row6_col6\" class=\"data row6 col6\" >0</td>\n",
       "      <td id=\"T_26368_row6_col7\" class=\"data row6 col7\" >0</td>\n",
       "      <td id=\"T_26368_row6_col8\" class=\"data row6 col8\" >0</td>\n",
       "      <td id=\"T_26368_row6_col9\" class=\"data row6 col9\" >0</td>\n",
       "      <td id=\"T_26368_row6_col10\" class=\"data row6 col10\" >249</td>\n",
       "      <td id=\"T_26368_row6_col11\" class=\"data row6 col11\" >253</td>\n",
       "      <td id=\"T_26368_row6_col12\" class=\"data row6 col12\" >245</td>\n",
       "      <td id=\"T_26368_row6_col13\" class=\"data row6 col13\" >126</td>\n",
       "      <td id=\"T_26368_row6_col14\" class=\"data row6 col14\" >0</td>\n",
       "      <td id=\"T_26368_row6_col15\" class=\"data row6 col15\" >0</td>\n",
       "      <td id=\"T_26368_row6_col16\" class=\"data row6 col16\" >0</td>\n",
       "      <td id=\"T_26368_row6_col17\" class=\"data row6 col17\" >0</td>\n",
       "    </tr>\n",
       "    <tr>\n",
       "      <th id=\"T_26368_level0_row7\" class=\"row_heading level0 row7\" >7</th>\n",
       "      <td id=\"T_26368_row7_col0\" class=\"data row7 col0\" >0</td>\n",
       "      <td id=\"T_26368_row7_col1\" class=\"data row7 col1\" >0</td>\n",
       "      <td id=\"T_26368_row7_col2\" class=\"data row7 col2\" >0</td>\n",
       "      <td id=\"T_26368_row7_col3\" class=\"data row7 col3\" >0</td>\n",
       "      <td id=\"T_26368_row7_col4\" class=\"data row7 col4\" >0</td>\n",
       "      <td id=\"T_26368_row7_col5\" class=\"data row7 col5\" >0</td>\n",
       "      <td id=\"T_26368_row7_col6\" class=\"data row7 col6\" >0</td>\n",
       "      <td id=\"T_26368_row7_col7\" class=\"data row7 col7\" >14</td>\n",
       "      <td id=\"T_26368_row7_col8\" class=\"data row7 col8\" >101</td>\n",
       "      <td id=\"T_26368_row7_col9\" class=\"data row7 col9\" >223</td>\n",
       "      <td id=\"T_26368_row7_col10\" class=\"data row7 col10\" >253</td>\n",
       "      <td id=\"T_26368_row7_col11\" class=\"data row7 col11\" >248</td>\n",
       "      <td id=\"T_26368_row7_col12\" class=\"data row7 col12\" >124</td>\n",
       "      <td id=\"T_26368_row7_col13\" class=\"data row7 col13\" >0</td>\n",
       "      <td id=\"T_26368_row7_col14\" class=\"data row7 col14\" >0</td>\n",
       "      <td id=\"T_26368_row7_col15\" class=\"data row7 col15\" >0</td>\n",
       "      <td id=\"T_26368_row7_col16\" class=\"data row7 col16\" >0</td>\n",
       "      <td id=\"T_26368_row7_col17\" class=\"data row7 col17\" >0</td>\n",
       "    </tr>\n",
       "    <tr>\n",
       "      <th id=\"T_26368_level0_row8\" class=\"row_heading level0 row8\" >8</th>\n",
       "      <td id=\"T_26368_row8_col0\" class=\"data row8 col0\" >0</td>\n",
       "      <td id=\"T_26368_row8_col1\" class=\"data row8 col1\" >0</td>\n",
       "      <td id=\"T_26368_row8_col2\" class=\"data row8 col2\" >0</td>\n",
       "      <td id=\"T_26368_row8_col3\" class=\"data row8 col3\" >0</td>\n",
       "      <td id=\"T_26368_row8_col4\" class=\"data row8 col4\" >0</td>\n",
       "      <td id=\"T_26368_row8_col5\" class=\"data row8 col5\" >11</td>\n",
       "      <td id=\"T_26368_row8_col6\" class=\"data row8 col6\" >166</td>\n",
       "      <td id=\"T_26368_row8_col7\" class=\"data row8 col7\" >239</td>\n",
       "      <td id=\"T_26368_row8_col8\" class=\"data row8 col8\" >253</td>\n",
       "      <td id=\"T_26368_row8_col9\" class=\"data row8 col9\" >253</td>\n",
       "      <td id=\"T_26368_row8_col10\" class=\"data row8 col10\" >253</td>\n",
       "      <td id=\"T_26368_row8_col11\" class=\"data row8 col11\" >187</td>\n",
       "      <td id=\"T_26368_row8_col12\" class=\"data row8 col12\" >30</td>\n",
       "      <td id=\"T_26368_row8_col13\" class=\"data row8 col13\" >0</td>\n",
       "      <td id=\"T_26368_row8_col14\" class=\"data row8 col14\" >0</td>\n",
       "      <td id=\"T_26368_row8_col15\" class=\"data row8 col15\" >0</td>\n",
       "      <td id=\"T_26368_row8_col16\" class=\"data row8 col16\" >0</td>\n",
       "      <td id=\"T_26368_row8_col17\" class=\"data row8 col17\" >0</td>\n",
       "    </tr>\n",
       "    <tr>\n",
       "      <th id=\"T_26368_level0_row9\" class=\"row_heading level0 row9\" >9</th>\n",
       "      <td id=\"T_26368_row9_col0\" class=\"data row9 col0\" >0</td>\n",
       "      <td id=\"T_26368_row9_col1\" class=\"data row9 col1\" >0</td>\n",
       "      <td id=\"T_26368_row9_col2\" class=\"data row9 col2\" >0</td>\n",
       "      <td id=\"T_26368_row9_col3\" class=\"data row9 col3\" >0</td>\n",
       "      <td id=\"T_26368_row9_col4\" class=\"data row9 col4\" >0</td>\n",
       "      <td id=\"T_26368_row9_col5\" class=\"data row9 col5\" >16</td>\n",
       "      <td id=\"T_26368_row9_col6\" class=\"data row9 col6\" >248</td>\n",
       "      <td id=\"T_26368_row9_col7\" class=\"data row9 col7\" >250</td>\n",
       "      <td id=\"T_26368_row9_col8\" class=\"data row9 col8\" >253</td>\n",
       "      <td id=\"T_26368_row9_col9\" class=\"data row9 col9\" >253</td>\n",
       "      <td id=\"T_26368_row9_col10\" class=\"data row9 col10\" >253</td>\n",
       "      <td id=\"T_26368_row9_col11\" class=\"data row9 col11\" >253</td>\n",
       "      <td id=\"T_26368_row9_col12\" class=\"data row9 col12\" >232</td>\n",
       "      <td id=\"T_26368_row9_col13\" class=\"data row9 col13\" >213</td>\n",
       "      <td id=\"T_26368_row9_col14\" class=\"data row9 col14\" >111</td>\n",
       "      <td id=\"T_26368_row9_col15\" class=\"data row9 col15\" >2</td>\n",
       "      <td id=\"T_26368_row9_col16\" class=\"data row9 col16\" >0</td>\n",
       "      <td id=\"T_26368_row9_col17\" class=\"data row9 col17\" >0</td>\n",
       "    </tr>\n",
       "    <tr>\n",
       "      <th id=\"T_26368_level0_row10\" class=\"row_heading level0 row10\" >10</th>\n",
       "      <td id=\"T_26368_row10_col0\" class=\"data row10 col0\" >0</td>\n",
       "      <td id=\"T_26368_row10_col1\" class=\"data row10 col1\" >0</td>\n",
       "      <td id=\"T_26368_row10_col2\" class=\"data row10 col2\" >0</td>\n",
       "      <td id=\"T_26368_row10_col3\" class=\"data row10 col3\" >0</td>\n",
       "      <td id=\"T_26368_row10_col4\" class=\"data row10 col4\" >0</td>\n",
       "      <td id=\"T_26368_row10_col5\" class=\"data row10 col5\" >0</td>\n",
       "      <td id=\"T_26368_row10_col6\" class=\"data row10 col6\" >0</td>\n",
       "      <td id=\"T_26368_row10_col7\" class=\"data row10 col7\" >43</td>\n",
       "      <td id=\"T_26368_row10_col8\" class=\"data row10 col8\" >98</td>\n",
       "      <td id=\"T_26368_row10_col9\" class=\"data row10 col9\" >98</td>\n",
       "      <td id=\"T_26368_row10_col10\" class=\"data row10 col10\" >208</td>\n",
       "      <td id=\"T_26368_row10_col11\" class=\"data row10 col11\" >253</td>\n",
       "      <td id=\"T_26368_row10_col12\" class=\"data row10 col12\" >253</td>\n",
       "      <td id=\"T_26368_row10_col13\" class=\"data row10 col13\" >253</td>\n",
       "      <td id=\"T_26368_row10_col14\" class=\"data row10 col14\" >253</td>\n",
       "      <td id=\"T_26368_row10_col15\" class=\"data row10 col15\" >187</td>\n",
       "      <td id=\"T_26368_row10_col16\" class=\"data row10 col16\" >22</td>\n",
       "      <td id=\"T_26368_row10_col17\" class=\"data row10 col17\" >0</td>\n",
       "    </tr>\n",
       "  </tbody>\n",
       "</table>\n"
      ],
      "text/plain": [
       "<pandas.io.formats.style.Styler at 0x73a601363f50>"
      ]
     },
     "execution_count": 759,
     "metadata": {},
     "output_type": "execute_result"
    }
   ],
   "source": [
    "#hide_output\n",
    "im3_t = tensor(im3)\n",
    "df = pd.DataFrame(im3_t[4:15,4:22])\n",
    "df.style.set_properties(**{'font-size':'6pt'}).background_gradient('Greys')"
   ]
  },
  {
   "cell_type": "markdown",
   "metadata": {},
   "source": [
    "First idea for teaching a model what's a 3 and what's a 7: Pixel Similarity\n",
    "\n",
    "- Let's find the average pixel value for every pixel of the 3s and of the 7s.\n",
    "- We'll get two group averages, defining what might be the ideael 3 and 7\n",
    "- Then we see which of these two ideal digits the image is most similar to"
   ]
  },
  {
   "cell_type": "markdown",
   "metadata": {},
   "source": [
    "Let's create a tensor containing all of the 3s stacked together, we'll use Python list comprehension to create a plain list of single image tensors:"
   ]
  },
  {
   "cell_type": "code",
   "execution_count": 760,
   "metadata": {},
   "outputs": [
    {
     "data": {
      "text/plain": [
       "(6131, 6265)"
      ]
     },
     "execution_count": 760,
     "metadata": {},
     "output_type": "execute_result"
    }
   ],
   "source": [
    "seven_tensors = [tensor(Image.open(o)) for o in sevens]\n",
    "three_tensors = [tensor(Image.open(o)) for o in threes]\n",
    "len(three_tensors),len(seven_tensors)"
   ]
  },
  {
   "cell_type": "markdown",
   "metadata": {},
   "source": [
    "let's just double check the images are ok since we now have tensors instead of PIL images. We'll sue fastai's show_image function"
   ]
  },
  {
   "cell_type": "code",
   "execution_count": 761,
   "metadata": {},
   "outputs": [
    {
     "data": {
      "text/plain": [
       "<Axes: >"
      ]
     },
     "execution_count": 761,
     "metadata": {},
     "output_type": "execute_result"
    },
    {
     "data": {
      "image/png": "[encoded data removed]",
      "text/plain": [
       "<Figure size 100x100 with 1 Axes>"
      ]
     },
     "metadata": {},
     "output_type": "display_data"
    }
   ],
   "source": [
    "show_image(three_tensors[1])"
   ]
  },
  {
   "cell_type": "markdown",
   "metadata": {},
   "source": [
    "- For every pixel position, we want to compute the average over all the images of the intensity of that pixel\n",
    "- First combine all images in this list to a single three-dimensional tensor (rank-3 tensor)\n",
    "- We often need to stack up individual tensors in a collection into a single tensor (using Pytorch's stack function)\n",
    "- Let's also cast our stacked tensor to float since some operation in PyTorch require this\n",
    "- Pixel values are expected to be between 0 and 1, so we divide by 255"
   ]
  },
  {
   "cell_type": "code",
   "execution_count": 762,
   "metadata": {},
   "outputs": [
    {
     "data": {
      "text/plain": [
       "torch.Size([6131, 28, 28])"
      ]
     },
     "execution_count": 762,
     "metadata": {},
     "output_type": "execute_result"
    }
   ],
   "source": [
    "stacked_sevens = torch.stack(seven_tensors).float()/255\n",
    "stacked_threes = torch.stack(three_tensors).float()/255\n",
    "stacked_threes.shape"
   ]
  },
  {
   "cell_type": "markdown",
   "metadata": {},
   "source": [
    "- The most important attribute of a tensor is its shape\n",
    "- This lets us find length of each axis\n",
    "- Thus we can infer that we have 6131 images with size 28x28"
   ]
  },
  {
   "cell_type": "markdown",
   "metadata": {},
   "source": [
    "Length of a tensor's shape is its rank:"
   ]
  },
  {
   "cell_type": "code",
   "execution_count": 763,
   "metadata": {},
   "outputs": [
    {
     "data": {
      "text/plain": [
       "3"
      ]
     },
     "execution_count": 763,
     "metadata": {},
     "output_type": "execute_result"
    }
   ],
   "source": [
    "len(stacked_threes.shape)"
   ]
  },
  {
   "cell_type": "markdown",
   "metadata": {},
   "source": [
    "- RANK: Number of axes or dimensions in a tensor\n",
    "- SHAPE: size of each axis of a tensor"
   ]
  },
  {
   "cell_type": "markdown",
   "metadata": {},
   "source": [
    "Finally we can compute what the ideal 3 looks like\n",
    "- We take the mean of all image tensors by taking mean along dimension 0 of our stacked rank-3 tensor\n",
    "- For every pixel position, this will compute average of that pixel over all images"
   ]
  },
  {
   "cell_type": "code",
   "execution_count": 764,
   "metadata": {},
   "outputs": [
    {
     "data": {
      "image/png": "[encoded data removed]",
      "text/plain": [
       "<Figure size 100x100 with 1 Axes>"
      ]
     },
     "metadata": {},
     "output_type": "display_data"
    }
   ],
   "source": [
    "mean3 = stacked_threes.mean(0)\n",
    "show_image(mean3);"
   ]
  },
  {
   "cell_type": "markdown",
   "metadata": {},
   "source": [
    "Now we'll do the same thing with the sevens:"
   ]
  },
  {
   "cell_type": "code",
   "execution_count": 765,
   "metadata": {},
   "outputs": [
    {
     "data": {
      "image/png": "[encoded data removed]",
      "text/plain": [
       "<Figure size 100x100 with 1 Axes>"
      ]
     },
     "metadata": {},
     "output_type": "display_data"
    }
   ],
   "source": [
    "mean7 = stacked_sevens.mean(0)\n",
    "show_image(mean7);"
   ]
  },
  {
   "cell_type": "markdown",
   "metadata": {},
   "source": [
    "Now lets pick an arbitrary 3 and measure its distance from our \"ideal digits\""
   ]
  },
  {
   "cell_type": "code",
   "execution_count": 766,
   "metadata": {},
   "outputs": [
    {
     "data": {
      "image/png": "[encoded data removed]",
      "text/plain": [
       "<Figure size 100x100 with 1 Axes>"
      ]
     },
     "metadata": {},
     "output_type": "display_data"
    }
   ],
   "source": [
    "a_3 = stacked_threes[1]\n",
    "show_image(a_3);"
   ]
  },
  {
   "cell_type": "markdown",
   "metadata": {},
   "source": [
    "How do we measure distance in this context?\n",
    "1. Take the mean of the absolute value of differences -> mean absolute difference / L1 norm\n",
    "2. Take the mean of the square of differences and tehn take the square root -> root mean squared error / L2 norm"
   ]
  },
  {
   "cell_type": "markdown",
   "metadata": {},
   "source": [
    "Let's try both of these now:\n"
   ]
  },
  {
   "cell_type": "code",
   "execution_count": 767,
   "metadata": {},
   "outputs": [
    {
     "data": {
      "text/plain": [
       "(tensor(0.1114), tensor(0.2021))"
      ]
     },
     "execution_count": 767,
     "metadata": {},
     "output_type": "execute_result"
    }
   ],
   "source": [
    "dist_3_abs = (a_3 - mean3).abs().mean()\n",
    "dist_3_sqr = ((a_3 - mean3)**2).mean().sqrt()\n",
    "dist_3_abs,dist_3_sqr"
   ]
  },
  {
   "cell_type": "code",
   "execution_count": 768,
   "metadata": {},
   "outputs": [
    {
     "data": {
      "text/plain": [
       "(tensor(0.1586), tensor(0.3021))"
      ]
     },
     "execution_count": 768,
     "metadata": {},
     "output_type": "execute_result"
    }
   ],
   "source": [
    "dist_7_abs = (a_3 - mean7).abs().mean()\n",
    "dist_7_sqr = ((a_3 - mean7)**2).mean().sqrt()\n",
    "dist_7_abs,dist_7_sqr"
   ]
  },
  {
   "cell_type": "markdown",
   "metadata": {},
   "source": [
    "In both cases, our 3 and ideal 3 is less than the distance to the ideal 7 so well get the right prediction in this case"
   ]
  },
  {
   "cell_type": "markdown",
   "metadata": {},
   "source": [
    "PyTorch already provides both of these as loss functions (inside torch.nn.functional) which the team recommends importing as F"
   ]
  },
  {
   "cell_type": "code",
   "execution_count": 769,
   "metadata": {},
   "outputs": [
    {
     "data": {
      "text/plain": [
       "(tensor(0.1586), tensor(0.3021))"
      ]
     },
     "execution_count": 769,
     "metadata": {},
     "output_type": "execute_result"
    }
   ],
   "source": [
    "import torch.nn.functional as F\n",
    "F.l1_loss(a_3.float(),mean7), F.mse_loss(a_3,mean7).sqrt()"
   ]
  },
  {
   "cell_type": "markdown",
   "metadata": {},
   "source": [
    "- MSE stands for mean squared error\n",
    "- L1 refers to mean absolute value / L1 norm"
   ]
  },
  {
   "cell_type": "markdown",
   "metadata": {},
   "source": [
    "NumPy is great for scientific and numeric programming in Python, but it doesn't support using GPU or calculating gradients (which PyToch does so were gonna use PyTorch tensors)"
   ]
  },
  {
   "cell_type": "markdown",
   "metadata": {},
   "source": [
    "were just gonna take a quick dive into numpy and tensors (theyre much faster than pure python and so we should try and use these as much as we can)"
   ]
  },
  {
   "cell_type": "markdown",
   "metadata": {},
   "source": [
    "To create an array or tensor, pass a list (or list of lists, or list of lists of lists, etc.) to `array()` or `tensor()`:"
   ]
  },
  {
   "cell_type": "code",
   "execution_count": 770,
   "metadata": {},
   "outputs": [],
   "source": [
    "data = [[1,2,3],[4,5,6]]\n",
    "arr = array (data)\n",
    "tns = tensor(data)"
   ]
  },
  {
   "cell_type": "code",
   "execution_count": 771,
   "metadata": {},
   "outputs": [
    {
     "data": {
      "text/plain": [
       "array([[1, 2, 3],\n",
       "       [4, 5, 6]])"
      ]
     },
     "execution_count": 771,
     "metadata": {},
     "output_type": "execute_result"
    }
   ],
   "source": [
    "arr # numpy"
   ]
  },
  {
   "cell_type": "code",
   "execution_count": 772,
   "metadata": {},
   "outputs": [
    {
     "data": {
      "text/plain": [
       "tensor([[1, 2, 3],\n",
       "        [4, 5, 6]])"
      ]
     },
     "execution_count": 772,
     "metadata": {},
     "output_type": "execute_result"
    }
   ],
   "source": [
    "tns # pytorch"
   ]
  },
  {
   "cell_type": "markdown",
   "metadata": {},
   "source": [
    "Syntax for both are the same. To select a row:"
   ]
  },
  {
   "cell_type": "code",
   "execution_count": 773,
   "metadata": {},
   "outputs": [
    {
     "data": {
      "text/plain": [
       "tensor([4, 5, 6])"
      ]
     },
     "execution_count": 773,
     "metadata": {},
     "output_type": "execute_result"
    }
   ],
   "source": [
    "tns[1]"
   ]
  },
  {
   "cell_type": "markdown",
   "metadata": {},
   "source": [
    "To select a column, using some list comprehension too"
   ]
  },
  {
   "cell_type": "code",
   "execution_count": 774,
   "metadata": {},
   "outputs": [
    {
     "data": {
      "text/plain": [
       "tensor([2, 5])"
      ]
     },
     "execution_count": 774,
     "metadata": {},
     "output_type": "execute_result"
    }
   ],
   "source": [
    "tns[:,1]"
   ]
  },
  {
   "cell_type": "markdown",
   "metadata": {},
   "source": [
    "to select part of a row/column:"
   ]
  },
  {
   "cell_type": "code",
   "execution_count": 775,
   "metadata": {},
   "outputs": [
    {
     "data": {
      "text/plain": [
       "tensor([5, 6])"
      ]
     },
     "execution_count": 775,
     "metadata": {},
     "output_type": "execute_result"
    }
   ],
   "source": [
    "tns[1,1:3]"
   ]
  },
  {
   "cell_type": "markdown",
   "metadata": {},
   "source": [
    "you can use the standard operators such as `+`, `-`, `*`, `/`:"
   ]
  },
  {
   "cell_type": "code",
   "execution_count": 776,
   "metadata": {},
   "outputs": [
    {
     "data": {
      "text/plain": [
       "tensor([[2, 3, 4],\n",
       "        [5, 6, 7]])"
      ]
     },
     "execution_count": 776,
     "metadata": {},
     "output_type": "execute_result"
    }
   ],
   "source": [
    "tns+1"
   ]
  },
  {
   "cell_type": "markdown",
   "metadata": {},
   "source": [
    "tensors have a type and will automatically change type as needed:"
   ]
  },
  {
   "cell_type": "code",
   "execution_count": 777,
   "metadata": {},
   "outputs": [
    {
     "data": {
      "text/plain": [
       "'torch.LongTensor'"
      ]
     },
     "execution_count": 777,
     "metadata": {},
     "output_type": "execute_result"
    }
   ],
   "source": [
    "tns.type()"
   ]
  },
  {
   "cell_type": "code",
   "execution_count": 778,
   "metadata": {},
   "outputs": [
    {
     "data": {
      "text/plain": [
       "tensor([[1.5000, 3.0000, 4.5000],\n",
       "        [6.0000, 7.5000, 9.0000]])"
      ]
     },
     "execution_count": 778,
     "metadata": {},
     "output_type": "execute_result"
    }
   ],
   "source": [
    "tns*1.5"
   ]
  },
  {
   "cell_type": "markdown",
   "metadata": {},
   "source": [
    "METRICS: a number calculated based on prodiction of our model, and correct labels, to tell us how good the model is"
   ]
  },
  {
   "cell_type": "markdown",
   "metadata": {},
   "source": [
    "This is  going to create tensors for our 3s and 7s from the validation set given to us from MNIST"
   ]
  },
  {
   "cell_type": "code",
   "execution_count": 779,
   "metadata": {},
   "outputs": [
    {
     "data": {
      "text/plain": [
       "(torch.Size([1010, 28, 28]), torch.Size([1028, 28, 28]))"
      ]
     },
     "execution_count": 779,
     "metadata": {},
     "output_type": "execute_result"
    }
   ],
   "source": [
    "valid_3_tens = torch.stack([tensor(Image.open(o)) \n",
    "                            for o in (path/'valid'/'3').ls()])\n",
    "valid_3_tens = valid_3_tens.float()/255\n",
    "valid_7_tens = torch.stack([tensor(Image.open(o)) \n",
    "                            for o in (path/'valid'/'7').ls()])\n",
    "valid_7_tens = valid_7_tens.float()/255\n",
    "valid_3_tens.shape,valid_7_tens.shape"
   ]
  },
  {
   "cell_type": "markdown",
   "metadata": {},
   "source": [
    "Ultimately we want to write a function (is_3) that will decide if an abritraty image is a 3 or a 7. It'll do this by deciding which of our two \"ideal digits\" this image is closer to. \n",
    "\n",
    "So we need to define a notion of distance (a function that calculates the distance ebtween two images)"
   ]
  },
  {
   "cell_type": "code",
   "execution_count": 780,
   "metadata": {},
   "outputs": [
    {
     "data": {
      "text/plain": [
       "tensor(0.1114)"
      ]
     },
     "execution_count": 780,
     "metadata": {},
     "output_type": "execute_result"
    }
   ],
   "source": [
    "def mnist_distance(a,b): return (a-b).abs().mean((-1,-2))\n",
    "mnist_distance(a_3, mean3)"
   ]
  },
  {
   "cell_type": "markdown",
   "metadata": {},
   "source": [
    "to calculate overall accuracy, we need to calculate the distance to the ideal 3 for every image in the validation set"
   ]
  },
  {
   "cell_type": "code",
   "execution_count": 781,
   "metadata": {},
   "outputs": [
    {
     "data": {
      "text/plain": [
       "(tensor([0.1774, 0.1161, 0.1467,  ..., 0.1308, 0.1776, 0.1080]),\n",
       " torch.Size([1010]))"
      ]
     },
     "execution_count": 781,
     "metadata": {},
     "output_type": "execute_result"
    }
   ],
   "source": [
    "valid_3_dist = mnist_distance(valid_3_tens, mean3)\n",
    "valid_3_dist, valid_3_dist.shape"
   ]
  },
  {
   "cell_type": "markdown",
   "metadata": {},
   "source": [
    "Instead of complaining about shapes not matches, it returned distance for every single image as a vector"
   ]
  },
  {
   "cell_type": "markdown",
   "metadata": {},
   "source": [
    "The magic trick is that PyTorch, when it tries to perform a simple subtraction operation between two tensors of different ranks, will use *broadcasting*. That is, it will automatically expand the tensor with the smaller rank to have the same size as the one with the larger rank."
   ]
  },
  {
   "cell_type": "markdown",
   "metadata": {},
   "source": [
    "We can use mnist_distance to tell us whether an image is a 3 or not by using the following logic:\n",
    "- If the distance between the digit in question and the ideal 3 is less than the distance to the ideal 7 then its a 3"
   ]
  },
  {
   "cell_type": "code",
   "execution_count": 782,
   "metadata": {},
   "outputs": [],
   "source": [
    "def is_3(x): return mnist_distance(x,mean3) < mnist_distance(x,mean7)"
   ]
  },
  {
   "cell_type": "markdown",
   "metadata": {},
   "source": [
    "Now lets calculate the accuracy for each of the 3s and 7s but taking the average of that function for all 3s and its inverse for 7s."
   ]
  },
  {
   "cell_type": "code",
   "execution_count": 783,
   "metadata": {},
   "outputs": [
    {
     "data": {
      "text/plain": [
       "(tensor(0.9168), tensor(0.9854), tensor(0.9511))"
      ]
     },
     "execution_count": 783,
     "metadata": {},
     "output_type": "execute_result"
    }
   ],
   "source": [
    "accuracy_3s =      is_3(valid_3_tens).float() .mean()\n",
    "accuracy_7s = (1 - is_3(valid_7_tens).float()).mean()\n",
    "\n",
    "accuracy_3s,accuracy_7s,(accuracy_3s+accuracy_7s)/2"
   ]
  },
  {
   "cell_type": "markdown",
   "metadata": {},
   "source": [
    "STOCHASTIC GRADIENT DESCENT EXAMPLE"
   ]
  },
  {
   "cell_type": "markdown",
   "metadata": {},
   "source": [
    "Let's say that our loss function is the quadratic function and x is a weight parameter of the function:"
   ]
  },
  {
   "cell_type": "code",
   "execution_count": 784,
   "metadata": {},
   "outputs": [],
   "source": [
    "def f(x): return x**2"
   ]
  },
  {
   "cell_type": "code",
   "execution_count": 785,
   "metadata": {},
   "outputs": [
    {
     "data": {
      "image/png": "[encoded data removed]",
      "text/plain": [
       "<Figure size 600x400 with 1 Axes>"
      ]
     },
     "metadata": {},
     "output_type": "display_data"
    }
   ],
   "source": [
    "plot_function(f, 'x', 'x**2')"
   ]
  },
  {
   "cell_type": "markdown",
   "metadata": {},
   "source": [
    "First we start by picking some random value for a parameter and calculating the value of the loss:"
   ]
  },
  {
   "cell_type": "code",
   "execution_count": 786,
   "metadata": {},
   "outputs": [
    {
     "data": {
      "image/png": "[encoded data removed]",
      "text/plain": [
       "<Figure size 600x400 with 1 Axes>"
      ]
     },
     "metadata": {},
     "output_type": "display_data"
    }
   ],
   "source": [
    "plot_function(f, 'x', 'x**2')\n",
    "plt.scatter(-1.5, f(-1.5), color='red');"
   ]
  },
  {
   "cell_type": "markdown",
   "metadata": {},
   "source": [
    "Next we look at what would happen if we increased or decreased our parameter by a little bit - the adjustment:"
   ]
  },
  {
   "cell_type": "code",
   "execution_count": 787,
   "metadata": {},
   "outputs": [
    {
     "data": {
      "image/png": "[encoded data removed]",
      "text/plain": [
       "<Figure size 600x400 with 1 Axes>"
      ]
     },
     "metadata": {},
     "output_type": "display_data"
    }
   ],
   "source": [
    "plot_function(f, 'x', 'x**2')\n",
    "plt.scatter(-1, f(-1), color='red');"
   ]
  },
  {
   "cell_type": "markdown",
   "metadata": {},
   "source": [
    "We can continue to change our weight little by little but eventually we should get to the lowest point on the curve:"
   ]
  },
  {
   "cell_type": "code",
   "execution_count": 788,
   "metadata": {},
   "outputs": [
    {
     "data": {
      "image/png": "[encoded data removed]",
      "text/plain": [
       "<Figure size 600x400 with 1 Axes>"
      ]
     },
     "metadata": {},
     "output_type": "display_data"
    }
   ],
   "source": [
    "plot_function(f, 'x', 'x**2')\n",
    "plt.scatter(0, f(0), color='red');"
   ]
  },
  {
   "cell_type": "markdown",
   "metadata": {},
   "source": [
    "BUT HOW DO WE CALCULATE GRADIENTS! WE USE PYTORCH!!!"
   ]
  },
  {
   "cell_type": "markdown",
   "metadata": {},
   "source": [
    "Let's see an example. First, let's pick a tensor values which we want gradients at. The requires_grad_ tells PyTorch taht we want to calculate gradients with respect to that variable at that value."
   ]
  },
  {
   "cell_type": "code",
   "execution_count": 789,
   "metadata": {},
   "outputs": [],
   "source": [
    "xt = tensor(3.).requires_grad_()"
   ]
  },
  {
   "cell_type": "markdown",
   "metadata": {},
   "source": [
    "Next, we calculate our function with that value."
   ]
  },
  {
   "cell_type": "code",
   "execution_count": 790,
   "metadata": {},
   "outputs": [
    {
     "data": {
      "text/plain": [
       "tensor(9., grad_fn=<PowBackward0>)"
      ]
     },
     "execution_count": 790,
     "metadata": {},
     "output_type": "execute_result"
    }
   ],
   "source": [
    "yt = f(xt)\n",
    "yt"
   ]
  },
  {
   "cell_type": "markdown",
   "metadata": {},
   "source": [
    "Finally, we tell PyTorch to calculate the gradients for us"
   ]
  },
  {
   "cell_type": "code",
   "execution_count": 791,
   "metadata": {},
   "outputs": [],
   "source": [
    "yt.backward()"
   ]
  },
  {
   "cell_type": "markdown",
   "metadata": {},
   "source": [
    "Backward refers to backpropogation, the name given to the process of calculating the derivative of each layer. \n",
    "\n",
    "This is called the \"backward pass\" of the network, as opposed to the \"forward pass,\" which is where the activations are calculated"
   ]
  },
  {
   "cell_type": "markdown",
   "metadata": {},
   "source": [
    "Now we can view the gradients by checking the grad attribute of the tensor:"
   ]
  },
  {
   "cell_type": "code",
   "execution_count": 792,
   "metadata": {},
   "outputs": [
    {
     "data": {
      "text/plain": [
       "tensor(6.)"
      ]
     },
     "execution_count": 792,
     "metadata": {},
     "output_type": "execute_result"
    }
   ],
   "source": [
    "xt.grad"
   ]
  },
  {
   "cell_type": "markdown",
   "metadata": {},
   "source": [
    "Awesome! It worked. Now we're going to make the example more complicated by using a vecotr argument for our function:"
   ]
  },
  {
   "cell_type": "code",
   "execution_count": 793,
   "metadata": {},
   "outputs": [
    {
     "data": {
      "text/plain": [
       "tensor([ 3.,  4., 10.], requires_grad=True)"
      ]
     },
     "execution_count": 793,
     "metadata": {},
     "output_type": "execute_result"
    }
   ],
   "source": [
    "xt = tensor([3.,4.,10.]).requires_grad_()\n",
    "xt"
   ]
  },
  {
   "cell_type": "markdown",
   "metadata": {},
   "source": [
    "We'll add sum to our function so it can take a vector (rank-1 tensor) and return a scalar (rank-0 tensor):"
   ]
  },
  {
   "cell_type": "code",
   "execution_count": 794,
   "metadata": {},
   "outputs": [
    {
     "data": {
      "text/plain": [
       "tensor(125., grad_fn=<SumBackward0>)"
      ]
     },
     "execution_count": 794,
     "metadata": {},
     "output_type": "execute_result"
    }
   ],
   "source": [
    "def f(x): return (x**2).sum()\n",
    "\n",
    "yt = f(xt)\n",
    "yt"
   ]
  },
  {
   "cell_type": "code",
   "execution_count": 795,
   "metadata": {},
   "outputs": [
    {
     "data": {
      "text/plain": [
       "tensor([ 6.,  8., 20.])"
      ]
     },
     "execution_count": 795,
     "metadata": {},
     "output_type": "execute_result"
    }
   ],
   "source": [
    "yt.backward()\n",
    "xt.grad"
   ]
  },
  {
   "cell_type": "markdown",
   "metadata": {},
   "source": [
    "SGD EXAMPLE TO SEE HOW FINDING A MINIMUM CAN BE USED TO TRAIN A MODEL TO FIT DATA BETTER"
   ]
  },
  {
   "cell_type": "markdown",
   "metadata": {},
   "source": [
    "Let's say we meausre speed of a roller coaster as it went over the top of a hump. It would start fast, slow down as it went up hill, be slowest at top, then speed up as it went downhill. You want to build a model of how speed changes over time. Let's say we measure speed manually every second for 20 seconds:"
   ]
  },
  {
   "cell_type": "code",
   "execution_count": 796,
   "metadata": {},
   "outputs": [
    {
     "data": {
      "text/plain": [
       "tensor([ 0.,  1.,  2.,  3.,  4.,  5.,  6.,  7.,  8.,  9., 10., 11., 12., 13., 14., 15., 16., 17., 18., 19.])"
      ]
     },
     "execution_count": 796,
     "metadata": {},
     "output_type": "execute_result"
    }
   ],
   "source": [
    "time = torch.arange(0,20).float(); time"
   ]
  },
  {
   "cell_type": "code",
   "execution_count": 797,
   "metadata": {},
   "outputs": [
    {
     "data": {
      "image/png": "[encoded data removed]",
      "text/plain": [
       "<Figure size 640x480 with 1 Axes>"
      ]
     },
     "metadata": {},
     "output_type": "display_data"
    }
   ],
   "source": [
    "speed = torch.randn(20)*3 + 0.75*(time-9.5)**2 + 1\n",
    "plt.scatter(time,speed);"
   ]
  },
  {
   "cell_type": "markdown",
   "metadata": {},
   "source": [
    "Not easy to say what the roller coaster's speed is. But, we can use SGD to find a function that matches our observations. Let's guess that the function is quadratic."
   ]
  },
  {
   "cell_type": "markdown",
   "metadata": {},
   "source": [
    "We want to clearly distinguish between the funciton's input (time when we are measure the coaster's speed) and its parameters (the values that define which quadratic we're trying). Let's collece the parameters in one argument and separate the input, t, and the parameters, params, in the function signature:"
   ]
  },
  {
   "cell_type": "code",
   "execution_count": 798,
   "metadata": {},
   "outputs": [],
   "source": [
    "def f(t, params):\n",
    "    a,b,c = params\n",
    "    return a*(t**2) + (b*t) + c"
   ]
  },
  {
   "cell_type": "markdown",
   "metadata": {},
   "source": [
    "Instead of finding the best function that fits our data, were finding the best qudratic function. To find the best quadratic function we just need to find the best value for a, b, and c."
   ]
  },
  {
   "cell_type": "markdown",
   "metadata": {},
   "source": [
    "We need to first define what best is. So we need to define a loss function which will return a value based on a prediction and a target, where lower values of the function mean better predictions.\n",
    "\n",
    "It needs to return lower values for better prediction, as the SGD procedure will try to minimize the loss.\n",
    "\n",
    "For continuous data, its common to use mean squared error:"
   ]
  },
  {
   "cell_type": "code",
   "execution_count": 799,
   "metadata": {},
   "outputs": [],
   "source": [
    "def mse(preds, targets): return ((preds-targets)**2).mean()"
   ]
  },
  {
   "cell_type": "markdown",
   "metadata": {},
   "source": [
    "Now we go through the 7 step process\n",
    "\n",
    "First initialize parameters to random values and tell PyTorch we want to track their gradients:"
   ]
  },
  {
   "cell_type": "code",
   "execution_count": 800,
   "metadata": {},
   "outputs": [],
   "source": [
    "params = torch.randn(3).requires_grad_()"
   ]
  },
  {
   "cell_type": "code",
   "execution_count": 801,
   "metadata": {},
   "outputs": [],
   "source": [
    "orig_params = params.clone()"
   ]
  },
  {
   "cell_type": "markdown",
   "metadata": {},
   "source": [
    "Now, we calculate the predictions"
   ]
  },
  {
   "cell_type": "code",
   "execution_count": 802,
   "metadata": {},
   "outputs": [],
   "source": [
    "preds = f(time, params)"
   ]
  },
  {
   "cell_type": "markdown",
   "metadata": {},
   "source": [
    "Let's create a function to see how clsoe the prediction are to the target:"
   ]
  },
  {
   "cell_type": "code",
   "execution_count": 803,
   "metadata": {},
   "outputs": [
    {
     "data": {
      "image/png": "[encoded data removed]",
      "text/plain": [
       "<Figure size 640x480 with 1 Axes>"
      ]
     },
     "metadata": {},
     "output_type": "display_data"
    }
   ],
   "source": [
    "def show_preds(preds, ax=None):\n",
    "    if ax is None: ax=plt.subplots()[1]\n",
    "    ax.scatter(time, speed)\n",
    "    ax.scatter(time, to_np(preds), color='red')\n",
    "    ax.set_ylim(-300,100)\n",
    "    \n",
    "show_preds(preds)"
   ]
  },
  {
   "cell_type": "markdown",
   "metadata": {},
   "source": [
    "Not very close"
   ]
  },
  {
   "cell_type": "markdown",
   "metadata": {},
   "source": [
    "Let's calculate the loss as follows:"
   ]
  },
  {
   "cell_type": "code",
   "execution_count": 804,
   "metadata": {},
   "outputs": [
    {
     "data": {
      "text/plain": [
       "tensor(875.3926, grad_fn=<MeanBackward0>)"
      ]
     },
     "execution_count": 804,
     "metadata": {},
     "output_type": "execute_result"
    }
   ],
   "source": [
    "loss = mse(preds, speed)\n",
    "loss"
   ]
  },
  {
   "cell_type": "markdown",
   "metadata": {},
   "source": [
    "Let's calculate the gradients (i.e. calculate an approximation of how the parameters need to change):"
   ]
  },
  {
   "cell_type": "code",
   "execution_count": 805,
   "metadata": {},
   "outputs": [
    {
     "data": {
      "text/plain": [
       "tensor([-5782.7510,  -355.4456,   -39.6303])"
      ]
     },
     "execution_count": 805,
     "metadata": {},
     "output_type": "execute_result"
    }
   ],
   "source": [
    "loss.backward()\n",
    "params.grad"
   ]
  },
  {
   "cell_type": "markdown",
   "metadata": {},
   "source": [
    "We can use these gradients to improve our parameters. Let's set the learning rate to 1e-5"
   ]
  },
  {
   "cell_type": "code",
   "execution_count": 806,
   "metadata": {},
   "outputs": [
    {
     "data": {
      "text/plain": [
       "tensor([-0.0578, -0.0036, -0.0004])"
      ]
     },
     "execution_count": 806,
     "metadata": {},
     "output_type": "execute_result"
    }
   ],
   "source": [
    "params.grad * 1e-5"
   ]
  },
  {
   "cell_type": "markdown",
   "metadata": {},
   "source": [
    "Now we need to update the parameters based on the gradients:"
   ]
  },
  {
   "cell_type": "code",
   "execution_count": 807,
   "metadata": {},
   "outputs": [],
   "source": [
    "lr = 1e-5\n",
    "params.data -= lr * params.grad.data\n",
    "params.grad = None"
   ]
  },
  {
   "cell_type": "markdown",
   "metadata": {},
   "source": [
    "Let's see if loss has improved:"
   ]
  },
  {
   "cell_type": "code",
   "execution_count": 808,
   "metadata": {},
   "outputs": [
    {
     "data": {
      "text/plain": [
       "tensor(634.5391, grad_fn=<MeanBackward0>)"
      ]
     },
     "execution_count": 808,
     "metadata": {},
     "output_type": "execute_result"
    }
   ],
   "source": [
    "preds = f(time,params)\n",
    "mse(preds, speed)"
   ]
  },
  {
   "cell_type": "code",
   "execution_count": 809,
   "metadata": {},
   "outputs": [
    {
     "data": {
      "image/png": "[encoded data removed]",
      "text/plain": [
       "<Figure size 640x480 with 1 Axes>"
      ]
     },
     "metadata": {},
     "output_type": "display_data"
    }
   ],
   "source": [
    "show_preds(preds)"
   ]
  },
  {
   "cell_type": "markdown",
   "metadata": {},
   "source": [
    "It has! Now we need to repeat a few times, so we'll create a function to apply one step:"
   ]
  },
  {
   "cell_type": "code",
   "execution_count": 810,
   "metadata": {},
   "outputs": [
    {
     "name": "stdout",
     "output_type": "stream",
     "text": [
      "634.5390625\n",
      "588.9586181640625\n",
      "580.3297729492188\n",
      "578.6932983398438\n",
      "578.3800048828125\n",
      "578.3170776367188\n",
      "578.3015747070312\n",
      "578.2950439453125\n",
      "578.2901000976562\n",
      "578.2855224609375\n"
     ]
    }
   ],
   "source": [
    "def apply_step(params, prn=True):\n",
    "    preds = f(time, params)\n",
    "    loss = mse(preds, speed)\n",
    "    loss.backward()\n",
    "    params.data -= lr * params.grad.data\n",
    "    params.grad = None\n",
    "    if prn: print(loss.item())\n",
    "    return preds\n",
    "\n",
    "for i in range(10): apply_step(params)"
   ]
  },
  {
   "cell_type": "code",
   "execution_count": 811,
   "metadata": {},
   "outputs": [],
   "source": [
    "params = orig_params.detach().requires_grad_()"
   ]
  },
  {
   "cell_type": "markdown",
   "metadata": {},
   "source": [
    "The loss is going down! Each iteration represents an entirely different quadratic function being tried. So let's see this process visually and plot the function at every step:"
   ]
  },
  {
   "cell_type": "code",
   "execution_count": 812,
   "metadata": {},
   "outputs": [
    {
     "data": {
      "image/png": "[encoded data removed]",
      "text/plain": [
       "<Figure size 1200x300 with 4 Axes>"
      ]
     },
     "metadata": {},
     "output_type": "display_data"
    }
   ],
   "source": [
    "_,axs = plt.subplots(1,4,figsize=(12,3))\n",
    "for ax in axs: show_preds(apply_step(params, False), ax)\n",
    "plt.tight_layout()"
   ]
  },
  {
   "cell_type": "markdown",
   "metadata": {},
   "source": [
    "WITH SGD OUT OF THE WAY LET'S RETURN TO THE DIGIT SIMILARITY PROBLEM"
   ]
  },
  {
   "cell_type": "markdown",
   "metadata": {},
   "source": [
    "The independent variable x is the images themselves. We'll concatenate them all into a single tensor, and also change them from a list of rank-3 tensors to a list of rank-2 tensors. \n",
    "\n",
    "This is done using view, a PyTorch method that changes the shape of a tensor without changing its contents.\n",
    "\n",
    "-1 is a special paramter to view that tells PyTorch to make this axis as big as necessary to fit all the data"
   ]
  },
  {
   "cell_type": "code",
   "execution_count": 813,
   "metadata": {},
   "outputs": [],
   "source": [
    "train_x = torch.cat([stacked_threes, stacked_sevens]).view(-1, 28*28)"
   ]
  },
  {
   "cell_type": "markdown",
   "metadata": {},
   "source": [
    "Each image needs a label so we'll use 1 for 3s and 0 for 7s:"
   ]
  },
  {
   "cell_type": "code",
   "execution_count": 814,
   "metadata": {},
   "outputs": [
    {
     "data": {
      "text/plain": [
       "(torch.Size([12396, 784]), torch.Size([12396, 1]))"
      ]
     },
     "execution_count": 814,
     "metadata": {},
     "output_type": "execute_result"
    }
   ],
   "source": [
    "train_y = tensor([1]*len(threes) + [0]*len(sevens)).unsqueeze(1)\n",
    "train_x.shape,train_y.shape"
   ]
  },
  {
   "cell_type": "markdown",
   "metadata": {},
   "source": [
    "A dataset in PyTorch is required to return a tuple of (x,y) when indexed so we'll use Python's zip function to combine these two lists:"
   ]
  },
  {
   "cell_type": "code",
   "execution_count": 815,
   "metadata": {},
   "outputs": [
    {
     "data": {
      "text/plain": [
       "(torch.Size([784]), tensor([1]))"
      ]
     },
     "execution_count": 815,
     "metadata": {},
     "output_type": "execute_result"
    }
   ],
   "source": [
    "dset = list(zip(train_x,train_y))\n",
    "x,y = dset[0]\n",
    "x.shape,y"
   ]
  },
  {
   "cell_type": "code",
   "execution_count": 816,
   "metadata": {},
   "outputs": [],
   "source": [
    "valid_x = torch.cat([valid_3_tens, valid_7_tens]).view(-1, 28*28)\n",
    "valid_y = tensor([1]*len(valid_3_tens) + [0]*len(valid_7_tens)).unsqueeze(1)\n",
    "valid_dset = list(zip(valid_x,valid_y))"
   ]
  },
  {
   "cell_type": "markdown",
   "metadata": {},
   "source": [
    "Next, we'll need an initial random weight for every pixel (the initialize step):"
   ]
  },
  {
   "cell_type": "code",
   "execution_count": 817,
   "metadata": {},
   "outputs": [],
   "source": [
    "def init_params(size, std=1.0): return (torch.randn(size)*std).requires_grad_()"
   ]
  },
  {
   "cell_type": "code",
   "execution_count": 818,
   "metadata": {},
   "outputs": [],
   "source": [
    "weights = init_params((28*28,1))"
   ]
  },
  {
   "cell_type": "markdown",
   "metadata": {},
   "source": [
    "The function weights*pixels isn't flexible enough since it'll always equal to 0 when the pixels are equal to 0 (its intercept is 0). So we'll initalize the intercept to a random number too:"
   ]
  },
  {
   "cell_type": "code",
   "execution_count": 819,
   "metadata": {},
   "outputs": [],
   "source": [
    "bias = init_params(1)"
   ]
  },
  {
   "cell_type": "markdown",
   "metadata": {},
   "source": [
    "In neural networks, the `w` in the equation `y=w*x+b` is called the *weights*, and the `b` is called the *bias*. Together, the weights and bias make up the *parameters*."
   ]
  },
  {
   "cell_type": "markdown",
   "metadata": {},
   "source": [
    "Now let's calculate a prediction for one image:"
   ]
  },
  {
   "cell_type": "code",
   "execution_count": 820,
   "metadata": {},
   "outputs": [
    {
     "data": {
      "text/plain": [
       "tensor([9.5425], grad_fn=<AddBackward0>)"
      ]
     },
     "execution_count": 820,
     "metadata": {},
     "output_type": "execute_result"
    }
   ],
   "source": [
    "(train_x[0]*weights.T).sum() + bias"
   ]
  },
  {
   "cell_type": "markdown",
   "metadata": {},
   "source": [
    "Don't use for loop to predict each image:\n",
    "- Python doesn't run on GPU\n",
    "- Python is slow language for loops\n",
    "\n",
    "We need to represent as much of the computation in a model as possible using higher-level functions"
   ]
  },
  {
   "cell_type": "markdown",
   "metadata": {},
   "source": [
    "We can use matrix multiplication to calculate w*x for every row of a matrix"
   ]
  },
  {
   "cell_type": "markdown",
   "metadata": {},
   "source": [
    "Matrix multiplication is represented with the @ operator in Python:"
   ]
  },
  {
   "cell_type": "code",
   "execution_count": 821,
   "metadata": {},
   "outputs": [
    {
     "data": {
      "text/plain": [
       "tensor([[ 9.5425],\n",
       "        [ 2.9833],\n",
       "        [ 9.2650],\n",
       "        ...,\n",
       "        [-2.5356],\n",
       "        [14.6461],\n",
       "        [-1.6888]], grad_fn=<AddBackward0>)"
      ]
     },
     "execution_count": 821,
     "metadata": {},
     "output_type": "execute_result"
    }
   ],
   "source": [
    "def linear1(xb): return xb@weights + bias\n",
    "preds = linear1(train_x)\n",
    "preds"
   ]
  },
  {
   "cell_type": "markdown",
   "metadata": {},
   "source": [
    "- First element is same as before (expected)\n",
    "- This equation batch@weights + bias is one of fundamental equatios of any neural network\n",
    "\n",
    "Let's check accuracy (easy since we can just check whether output is greater than 0):"
   ]
  },
  {
   "cell_type": "code",
   "execution_count": 822,
   "metadata": {},
   "outputs": [
    {
     "data": {
      "text/plain": [
       "tensor([[ True],\n",
       "        [ True],\n",
       "        [ True],\n",
       "        ...,\n",
       "        [ True],\n",
       "        [False],\n",
       "        [ True]])"
      ]
     },
     "execution_count": 822,
     "metadata": {},
     "output_type": "execute_result"
    }
   ],
   "source": [
    "corrects = (preds>0.0).float() == train_y\n",
    "corrects"
   ]
  },
  {
   "cell_type": "code",
   "execution_count": 823,
   "metadata": {},
   "outputs": [
    {
     "data": {
      "text/plain": [
       "0.7029687166213989"
      ]
     },
     "execution_count": 823,
     "metadata": {},
     "output_type": "execute_result"
    }
   ],
   "source": [
    "corrects.float().mean().item()"
   ]
  },
  {
   "cell_type": "markdown",
   "metadata": {},
   "source": [
    "Now let's see what happens to the accuracy if we make a small change in one of the weights\n",
    "- We have to ask PyTorch not to calculate gradients as we do this:"
   ]
  },
  {
   "cell_type": "code",
   "execution_count": 824,
   "metadata": {},
   "outputs": [],
   "source": [
    "with torch.no_grad(): weights[0] *= 1.0001"
   ]
  },
  {
   "cell_type": "code",
   "execution_count": 825,
   "metadata": {},
   "outputs": [
    {
     "data": {
      "text/plain": [
       "0.7029687166213989"
      ]
     },
     "execution_count": 825,
     "metadata": {},
     "output_type": "execute_result"
    }
   ],
   "source": [
    "preds = linear1(train_x)\n",
    "((preds>0.0).float() == train_y).float().mean().item()"
   ]
  },
  {
   "cell_type": "markdown",
   "metadata": {},
   "source": [
    "Therefore, we need gradients to improve our mudel using SGD\n",
    "- To calculate gradients we need some loss function to represent how good our model is\n",
    "- Gradients are a measure of how that loss function changes with small tweaks to weights"
   ]
  },
  {
   "cell_type": "markdown",
   "metadata": {},
   "source": [
    "We need to define a loss function. \n",
    "\n",
    "So far all we can go off of is seeing what happens to accuracy when we change the weights"
   ]
  },
  {
   "cell_type": "markdown",
   "metadata": {},
   "source": [
    "Now were going to implement one where if the correct answer is a 3 the score is a little higher, if its a 7 then the score is a little lower  "
   ]
  },
  {
   "cell_type": "markdown",
   "metadata": {},
   "source": [
    "One argument, prds, of values between 0 and 1, is the prediction that an image is a 3. Its a rank-1 tensor indexed over the images\n",
    "\n",
    "The whole point of this loss function is to measure the difference between the predicted values and the targets\n",
    "\n",
    "So we need another argument, trgts, of values 0 or 1, that tell us whether an image is a 3 or not. Its a rank-1 tensor indexed over the images"
   ]
  },
  {
   "cell_type": "markdown",
   "metadata": {},
   "source": [
    "Let's say we have three images which we know are a 3, 7, and 3.\n",
    "\n",
    "Let's say the model predicted the images with the following confidence: 0.9, 0.4, 0.2\n",
    "\n",
    "Our loss function gets these inputs:"
   ]
  },
  {
   "cell_type": "code",
   "execution_count": 826,
   "metadata": {},
   "outputs": [],
   "source": [
    "trgts  = tensor([1  ,   0  ,    1   ])\n",
    "prds   = tensor([0.9,   0.4,    0.2 ])"
   ]
  },
  {
   "cell_type": "markdown",
   "metadata": {},
   "source": [
    "Let's try a loss function that measures the distance between predictions and targets:\n",
    "- The function torch.where(a,b,c) is the same as [b[i] if a[i] else c[i] for i in range(len(a))]\n",
    "- Except that it works on tensors using the GPU\n",
    "- This function measures how distance each prediction is from 1 if it should be 1, and same thing from 0 if it should be 0\n",
    "- Then it takes the mean of all the distances"
   ]
  },
  {
   "cell_type": "code",
   "execution_count": 827,
   "metadata": {},
   "outputs": [],
   "source": [
    "def mnist_loss(predictions, targets):\n",
    "    return torch.where(targets==1, 1-predictions, predictions).mean()"
   ]
  },
  {
   "cell_type": "markdown",
   "metadata": {},
   "source": [
    "Trying it on example prds and trgts:"
   ]
  },
  {
   "cell_type": "code",
   "execution_count": 828,
   "metadata": {},
   "outputs": [
    {
     "data": {
      "text/plain": [
       "tensor([0.1000, 0.4000, 0.8000])"
      ]
     },
     "execution_count": 828,
     "metadata": {},
     "output_type": "execute_result"
    }
   ],
   "source": [
    "torch.where(trgts==1, 1-prds, prds)"
   ]
  },
  {
   "cell_type": "markdown",
   "metadata": {},
   "source": [
    "Thus, it returns lower numbers when predictions are more accurate, when accurate predictions are more confident, and when inaccurate predictions are less confident\n",
    "\n",
    "Since we need a scalar for the final loss, mnist_loss takes the mean of the previous tensor"
   ]
  },
  {
   "cell_type": "code",
   "execution_count": 829,
   "metadata": {},
   "outputs": [
    {
     "data": {
      "text/plain": [
       "tensor(0.4333)"
      ]
     },
     "execution_count": 829,
     "metadata": {},
     "output_type": "execute_result"
    }
   ],
   "source": [
    "mnist_loss(prds,trgts)"
   ]
  },
  {
   "cell_type": "markdown",
   "metadata": {},
   "source": [
    "### Sigmoid"
   ]
  },
  {
   "cell_type": "markdown",
   "metadata": {},
   "source": [
    "Sigmoid function always outputs a number between 0 and 1. We need this function because to ensure predictions are always be between 0 and 1."
   ]
  },
  {
   "cell_type": "code",
   "execution_count": 830,
   "metadata": {},
   "outputs": [],
   "source": [
    "def sigmoid(x): return 1/(1+torch.exp(-x))"
   ]
  },
  {
   "cell_type": "markdown",
   "metadata": {},
   "source": [
    "PyTorch already has an accelerated version for us, so we don't need to make one ourself.\n",
    "\n",
    "Essential function in deep learning, since we often want to ensure values are between 0 and 1"
   ]
  },
  {
   "cell_type": "code",
   "execution_count": 831,
   "metadata": {},
   "outputs": [
    {
     "data": {
      "image/png": "[encoded data removed]",
      "text/plain": [
       "<Figure size 600x400 with 1 Axes>"
      ]
     },
     "metadata": {},
     "output_type": "display_data"
    }
   ],
   "source": [
    "plot_function(torch.sigmoid, title='Sigmoid', min=-4, max=4)"
   ]
  },
  {
   "cell_type": "markdown",
   "metadata": {},
   "source": [
    "This function takes any input value, positive or negative, and smooshes it onto an output value between 0 and 1.\n",
    "\n",
    "Its curve also only goes up, making it easier for SGD to find meaningful gradients"
   ]
  },
  {
   "cell_type": "markdown",
   "metadata": {},
   "source": [
    "Now lets update mnist_loss to first apply sigmoid to the inputs:\n",
    "- Now we can be confident that our loss function will work even when predictions are not between 0 and 1\n",
    "- All we need is that a higher prediction means higher confidence an image is a 3"
   ]
  },
  {
   "cell_type": "code",
   "execution_count": 832,
   "metadata": {},
   "outputs": [],
   "source": [
    "def mnist_loss(predictions, targets):\n",
    "    predictions = predictions.sigmoid()\n",
    "    return torch.where(targets==1, 1-predictions, predictions).mean()"
   ]
  },
  {
   "cell_type": "markdown",
   "metadata": {},
   "source": [
    "Now that we've got a proper loss function for SGD, we need to change/update the weights based on the gradients\n",
    "\n",
    "Were going to calculate the average loss for a few data items at a time so we get a more precise gradient for model to learn from\n",
    "\n",
    "To make the generalization of the model better, we want to vary the data used to train the model. So we're going to use a DataLoader and turn it into an iterator over mini-batches. We want to randomly shuffle the dataset on every epoch before creating mini-batches\n",
    "\n",
    "Here's an example implementing DataLoader to show how an input of data can be turned into mini-batches"
   ]
  },
  {
   "cell_type": "code",
   "execution_count": 833,
   "metadata": {},
   "outputs": [
    {
     "data": {
      "text/plain": [
       "[tensor([ 7, 14,  3,  0,  6]),\n",
       " tensor([ 1, 12, 10,  5,  8]),\n",
       " tensor([13,  9,  4,  2, 11])]"
      ]
     },
     "execution_count": 833,
     "metadata": {},
     "output_type": "execute_result"
    }
   ],
   "source": [
    "coll = range(15)\n",
    "dl = DataLoader(coll, batch_size=5, shuffle=True)\n",
    "list(dl)"
   ]
  },
  {
   "cell_type": "markdown",
   "metadata": {},
   "source": [
    "E.g. 2\n",
    "\n",
    "Models need to know the targets too, so here's an example that creates a tuple (x,y) where x is the input and y is the target\n",
    "\n",
    "This collection is called a Dataset (ds) in PyTorch:"
   ]
  },
  {
   "cell_type": "code",
   "execution_count": 834,
   "metadata": {},
   "outputs": [
    {
     "data": {
      "text/plain": [
       "(#26) [(0, 'a'),(1, 'b'),(2, 'c'),(3, 'd'),(4, 'e'),(5, 'f'),(6, 'g'),(7, 'h'),(8, 'i'),(9, 'j')...]"
      ]
     },
     "execution_count": 834,
     "metadata": {},
     "output_type": "execute_result"
    }
   ],
   "source": [
    "ds = L(enumerate(string.ascii_lowercase))\n",
    "ds"
   ]
  },
  {
   "cell_type": "markdown",
   "metadata": {},
   "source": [
    "When we pass a Dataset to a DataLoader we will get back mini-batches which are tuples of tensors representing batches of inputs and targets:"
   ]
  },
  {
   "cell_type": "code",
   "execution_count": 835,
   "metadata": {},
   "outputs": [
    {
     "data": {
      "text/plain": [
       "[(tensor([ 1, 10,  7,  9, 24, 17]), ('b', 'k', 'h', 'j', 'y', 'r')),\n",
       " (tensor([ 6, 12, 16, 15, 19,  2]), ('g', 'm', 'q', 'p', 't', 'c')),\n",
       " (tensor([ 0, 20,  5, 23,  3, 25]), ('a', 'u', 'f', 'x', 'd', 'z')),\n",
       " (tensor([ 4,  8, 21, 11, 13, 14]), ('e', 'i', 'v', 'l', 'n', 'o')),\n",
       " (tensor([18, 22]), ('s', 'w'))]"
      ]
     },
     "execution_count": 835,
     "metadata": {},
     "output_type": "execute_result"
    }
   ],
   "source": [
    "dl = DataLoader(ds, batch_size=6, shuffle=True)\n",
    "list(dl)"
   ]
  },
  {
   "cell_type": "markdown",
   "metadata": {},
   "source": [
    "Now let's create a training loop for the model that uses SGD:"
   ]
  },
  {
   "cell_type": "markdown",
   "metadata": {},
   "source": [
    "Initialize parameters:\n",
    "- weights = init_params((28*28, 1)): \n",
    "    - This initializes the weights matrix with dimensions (784, 1). \n",
    "    - Each element in the input vector (flattened image) will have a corresponding weight.\n",
    "- bias = init_params(1): \n",
    "    - This initializes the bias term as a single scalar value.\n",
    "\n",
    "Together, the weights and bias are used to compute the weighted sum of the input features plus the bias, which is then used to make a prediction."
   ]
  },
  {
   "cell_type": "code",
   "execution_count": 836,
   "metadata": {},
   "outputs": [],
   "source": [
    "weights = init_params((28*28,1))\n",
    "bias = init_params(1)"
   ]
  },
  {
   "cell_type": "markdown",
   "metadata": {},
   "source": [
    "Create DataLoader from a Dataset:"
   ]
  },
  {
   "cell_type": "code",
   "execution_count": 837,
   "metadata": {},
   "outputs": [
    {
     "data": {
      "text/plain": [
       "(torch.Size([256, 784]), torch.Size([256, 1]))"
      ]
     },
     "execution_count": 837,
     "metadata": {},
     "output_type": "execute_result"
    }
   ],
   "source": [
    "dl = DataLoader(dset, batch_size=256)\n",
    "# dset contains data and target for all 3s and 7s\n",
    "valid_dl = DataLoader(valid_dset, batch_size=256)\n",
    "# valid_dset is same as dset but from validation folder\n",
    "\n",
    "xb,yb = first(dl)\n",
    "xb.shape,yb.shape"
   ]
  },
  {
   "cell_type": "markdown",
   "metadata": {},
   "source": [
    "Create a mini-batch of size 4 for testing:"
   ]
  },
  {
   "cell_type": "code",
   "execution_count": 838,
   "metadata": {},
   "outputs": [
    {
     "data": {
      "text/plain": [
       "torch.Size([4, 784])"
      ]
     },
     "execution_count": 838,
     "metadata": {},
     "output_type": "execute_result"
    }
   ],
   "source": [
    "batch = train_x[:4]\n",
    "batch.shape"
   ]
  },
  {
   "cell_type": "code",
   "execution_count": 839,
   "metadata": {},
   "outputs": [
    {
     "data": {
      "text/plain": [
       "tensor([[ 0.7379],\n",
       "        [ 0.0706],\n",
       "        [13.4034],\n",
       "        [-0.3394]], grad_fn=<AddBackward0>)"
      ]
     },
     "execution_count": 839,
     "metadata": {},
     "output_type": "execute_result"
    }
   ],
   "source": [
    "preds = linear1(batch)\n",
    "# runs xb@weights + bias on all items in batch\n",
    "preds"
   ]
  },
  {
   "cell_type": "code",
   "execution_count": 840,
   "metadata": {},
   "outputs": [
    {
     "data": {
      "text/plain": [
       "tensor(0.3475, grad_fn=<MeanBackward0>)"
      ]
     },
     "execution_count": 840,
     "metadata": {},
     "output_type": "execute_result"
    }
   ],
   "source": [
    "loss = mnist_loss(preds, train_y[:4])\n",
    "# find the loss for each prediction\n",
    "loss"
   ]
  },
  {
   "cell_type": "markdown",
   "metadata": {},
   "source": [
    "calculating gradient:"
   ]
  },
  {
   "cell_type": "code",
   "execution_count": 841,
   "metadata": {},
   "outputs": [
    {
     "data": {
      "text/plain": [
       "(torch.Size([784, 1]), tensor(-0.0274), tensor([-0.1779]))"
      ]
     },
     "execution_count": 841,
     "metadata": {},
     "output_type": "execute_result"
    }
   ],
   "source": [
    "loss.backward()\n",
    "weights.grad.shape,weights.grad.mean(),bias.grad"
   ]
  },
  {
   "cell_type": "code",
   "execution_count": 842,
   "metadata": {},
   "outputs": [
    {
     "data": {
      "text/plain": [
       "(tensor(-0.0548), tensor([-0.3557]))"
      ]
     },
     "execution_count": 842,
     "metadata": {},
     "output_type": "execute_result"
    }
   ],
   "source": [
    "def calc_grad(xb, yb, model):\n",
    "    preds = model(xb)\n",
    "    loss = mnist_loss(preds, yb)\n",
    "    loss.backward()\n",
    "    \n",
    "calc_grad(batch, train_y[:4], linear1)\n",
    "weights.grad.mean(),bias.grad"
   ]
  },
  {
   "cell_type": "markdown",
   "metadata": {},
   "source": [
    "Running it a bunch of times changes gradient because loss.backward adds gradients of loss to any gradients currently stored :(\n",
    "\n",
    "So we need to set current gradients to 0 first:"
   ]
  },
  {
   "cell_type": "code",
   "execution_count": 843,
   "metadata": {},
   "outputs": [],
   "source": [
    "weights.grad.zero_()\n",
    "bias.grad.zero_();"
   ]
  },
  {
   "cell_type": "markdown",
   "metadata": {},
   "source": [
    "Now we need to update the weights and biases based on the gradient and learning rate. \n",
    "\n",
    "We have to tell PyTorch not to take the gradeitn of this step too. So we assign the data attribute then PyTorch will not take the gradient of that step:"
   ]
  },
  {
   "cell_type": "code",
   "execution_count": 844,
   "metadata": {},
   "outputs": [],
   "source": [
    "def train_epoch(model, lr, params):\n",
    "    for xb,yb in dl:\n",
    "        calc_grad(xb, yb, model)\n",
    "        for p in params:\n",
    "            p.data -= p.grad*lr\n",
    "            p.grad.zero_()"
   ]
  },
  {
   "cell_type": "markdown",
   "metadata": {},
   "source": [
    "We also want to check how we're doing by looking at the accuracy of the validation set. To see if an output is a 3 or a 7 we just check whether its greater than 0. So accuracy for each item can be calculated with:"
   ]
  },
  {
   "cell_type": "code",
   "execution_count": 845,
   "metadata": {},
   "outputs": [
    {
     "data": {
      "text/plain": [
       "tensor([[ True],\n",
       "        [ True],\n",
       "        [ True],\n",
       "        [False]])"
      ]
     },
     "execution_count": 845,
     "metadata": {},
     "output_type": "execute_result"
    }
   ],
   "source": [
    "(preds>0.0).float() == train_y[:4]"
   ]
  },
  {
   "cell_type": "markdown",
   "metadata": {},
   "source": [
    "In function format:"
   ]
  },
  {
   "cell_type": "code",
   "execution_count": 846,
   "metadata": {},
   "outputs": [
    {
     "data": {
      "text/plain": [
       "tensor(0.7500)"
      ]
     },
     "execution_count": 846,
     "metadata": {},
     "output_type": "execute_result"
    }
   ],
   "source": [
    "def batch_accuracy(xb, yb):\n",
    "    preds = xb.sigmoid()\n",
    "    correct = (preds>0.5) == yb\n",
    "    return correct.float().mean()\n",
    "\n",
    "batch_accuracy(linear1(batch), train_y[0:4])"
   ]
  },
  {
   "cell_type": "code",
   "execution_count": 847,
   "metadata": {},
   "outputs": [
    {
     "data": {
      "text/plain": [
       "0.5311"
      ]
     },
     "execution_count": 847,
     "metadata": {},
     "output_type": "execute_result"
    }
   ],
   "source": [
    "def validate_epoch(model):\n",
    "    accs = [batch_accuracy(model(xb), yb) for xb,yb in valid_dl]\n",
    "    return round(torch.stack(accs).mean().item(), 4)\n",
    "\n",
    "validate_epoch(linear1)"
   ]
  },
  {
   "cell_type": "markdown",
   "metadata": {},
   "source": [
    "This is our starting point. Let's train for one epoch and see if accuracy improves:"
   ]
  },
  {
   "cell_type": "code",
   "execution_count": 848,
   "metadata": {},
   "outputs": [
    {
     "data": {
      "text/plain": [
       "0.6452"
      ]
     },
     "execution_count": 848,
     "metadata": {},
     "output_type": "execute_result"
    }
   ],
   "source": [
    "lr = 1.\n",
    "params = weights,bias\n",
    "train_epoch(linear1, lr, params)\n",
    "validate_epoch(linear1)"
   ]
  },
  {
   "cell_type": "markdown",
   "metadata": {},
   "source": [
    "Then do a few more:"
   ]
  },
  {
   "cell_type": "code",
   "execution_count": 849,
   "metadata": {},
   "outputs": [
    {
     "name": "stdout",
     "output_type": "stream",
     "text": [
      "0.8305 0.9194 0.9467 0.9584 0.9638 0.9667 0.9687 0.9692 0.9706 0.9716 0.9716 0.9726 0.9726 0.9731 0.9736 0.9736 0.9736 0.9741 0.9741 0.9755 "
     ]
    }
   ],
   "source": [
    "for i in range(20):\n",
    "    train_epoch(linear1, lr, params)\n",
    "    print(validate_epoch(linear1), end=' ')"
   ]
  },
  {
   "cell_type": "markdown",
   "metadata": {},
   "source": [
    "Great! So now we have same accuracy as pixel similarity approach, and we've create a general purpose foundation we can build on. \n",
    "\n",
    "Next step is to create an object that will handle the SGD step for us.\n",
    "\n",
    "In PyTorch this is called the optimizer\n",
    "\n",
    "Because we are using such a general foundation, PyTorch has some useful classes to make it easier to implement an optimizer.\n",
    "\n",
    "First: Let's replace our linear1 function with PyTorch's nn.Linear module (an object of a class that inherits from the PyTorch nn.Module class)\n",
    "\n",
    "nn.Linear does the same thing as our init_paramas and linear together. Contains both the weights and biases in a single class. Here's how to replicate our model from the previous section:"
   ]
  },
  {
   "cell_type": "code",
   "execution_count": 850,
   "metadata": {},
   "outputs": [],
   "source": [
    "linear_model = nn.Linear(28*28,1)"
   ]
  },
  {
   "cell_type": "markdown",
   "metadata": {},
   "source": [
    "We can figure out what parameters it has that can be trained using parameters method:"
   ]
  },
  {
   "cell_type": "code",
   "execution_count": 851,
   "metadata": {},
   "outputs": [
    {
     "data": {
      "text/plain": [
       "(torch.Size([1, 784]), torch.Size([1]))"
      ]
     },
     "execution_count": 851,
     "metadata": {},
     "output_type": "execute_result"
    }
   ],
   "source": [
    "w,b = linear_model.parameters()\n",
    "w.shape,b.shape"
   ]
  },
  {
   "cell_type": "markdown",
   "metadata": {},
   "source": [
    "We use this information to create an optimizer:"
   ]
  },
  {
   "cell_type": "code",
   "execution_count": 852,
   "metadata": {},
   "outputs": [],
   "source": [
    "class BasicOptim:\n",
    "    def __init__(self,params,lr): self.params,self.lr = list(params),lr\n",
    "\n",
    "    def step(self, *args, **kwargs):\n",
    "        for p in self.params: p.data -= p.grad.data * self.lr\n",
    "\n",
    "    def zero_grad(self, *args, **kwargs):\n",
    "        for p in self.params: p.grad = None"
   ]
  },
  {
   "cell_type": "markdown",
   "metadata": {},
   "source": [
    "Then we create our optimizer by passing in the model's parameters:"
   ]
  },
  {
   "cell_type": "code",
   "execution_count": 853,
   "metadata": {},
   "outputs": [],
   "source": [
    "opt = BasicOptim(linear_model.parameters(), lr)"
   ]
  },
  {
   "cell_type": "markdown",
   "metadata": {},
   "source": [
    "Now we can make our training loop much simpler:"
   ]
  },
  {
   "cell_type": "code",
   "execution_count": 854,
   "metadata": {},
   "outputs": [],
   "source": [
    "def train_epoch(model):\n",
    "    for xb, yb in dl:\n",
    "        calc_grad(xb, yb, model)\n",
    "        opt.step()\n",
    "        opt.zero_grad()"
   ]
  },
  {
   "cell_type": "markdown",
   "metadata": {},
   "source": [
    "We'll keep validation function the exact same way:"
   ]
  },
  {
   "cell_type": "code",
   "execution_count": 855,
   "metadata": {},
   "outputs": [
    {
     "data": {
      "text/plain": [
       "0.2723"
      ]
     },
     "execution_count": 855,
     "metadata": {},
     "output_type": "execute_result"
    }
   ],
   "source": [
    "validate_epoch(linear_model)"
   ]
  },
  {
   "cell_type": "markdown",
   "metadata": {},
   "source": [
    "Then, let's simplify things even more by putting our training loop in a function: "
   ]
  },
  {
   "cell_type": "code",
   "execution_count": 856,
   "metadata": {},
   "outputs": [],
   "source": [
    "def train_model(model, epochs):\n",
    "    for i in range(epochs):\n",
    "        train_epoch(model)\n",
    "        print(validate_epoch(model), end=' ')"
   ]
  },
  {
   "cell_type": "markdown",
   "metadata": {},
   "source": [
    "Results are exact same as before:"
   ]
  },
  {
   "cell_type": "code",
   "execution_count": 857,
   "metadata": {},
   "outputs": [
    {
     "name": "stdout",
     "output_type": "stream",
     "text": [
      "0.4932 0.5055 0.6621 0.8779 0.9194 0.938 0.9521 0.958 0.9638 0.9658 0.9682 0.9697 0.9717 0.9741 0.9741 0.9761 0.977 0.9775 0.978 0.978 "
     ]
    }
   ],
   "source": [
    "train_model(linear_model, 20)"
   ]
  },
  {
   "cell_type": "markdown",
   "metadata": {},
   "source": [
    "fastai provies the SGD class which does the same thing as our BasicOptim"
   ]
  },
  {
   "cell_type": "code",
   "execution_count": 858,
   "metadata": {},
   "outputs": [
    {
     "name": "stdout",
     "output_type": "stream",
     "text": [
      "0.4932 0.8232 0.8437 0.9136 0.9336 0.9477 0.9575 0.9634 0.9658 0.9668 0.9692 0.9712 0.9741 0.9746 0.9761 0.977 0.9775 0.9785 0.9785 0.979 "
     ]
    }
   ],
   "source": [
    "linear_model = nn.Linear(28*28, 1)\n",
    "opt = SGD(linear_model.parameters(), lr)\n",
    "train_model(linear_model, 20)"
   ]
  },
  {
   "cell_type": "markdown",
   "metadata": {},
   "source": [
    "fastai also providees Learner.fit which we can use instead of train_model.\n",
    "\n",
    "To create a learner we need to create a DataLoaders by passing in our training and validation DataLoaders:"
   ]
  },
  {
   "cell_type": "code",
   "execution_count": 859,
   "metadata": {},
   "outputs": [],
   "source": [
    "dls = DataLoaders(dl, valid_dl)"
   ]
  },
  {
   "cell_type": "markdown",
   "metadata": {},
   "source": [
    "To create a learner without using an application (such as vision_learner) we need to pass all the elements we've created so far:\n",
    "- the DataLoaders\n",
    "- the model\n",
    "- the optimization function (which will be passed the parameters)\n",
    "- the loss function\n",
    "- metrics to print"
   ]
  },
  {
   "cell_type": "code",
   "execution_count": 860,
   "metadata": {},
   "outputs": [],
   "source": [
    "learn = Learner(\n",
    "    dls,\n",
    "    nn.Linear(28*28,1),\n",
    "    opt_func=SGD,\n",
    "    loss_func=mnist_loss,\n",
    "    metrics=batch_accuracy\n",
    ")"
   ]
  },
  {
   "cell_type": "markdown",
   "metadata": {},
   "source": [
    "Now let's call fit:"
   ]
  },
  {
   "cell_type": "code",
   "execution_count": 861,
   "metadata": {},
   "outputs": [
    {
     "data": {
      "text/html": [
       "\n",
       "<style>\n",
       "    /* Turns off some styling */\n",
       "    progress {\n",
       "        /* gets rid of default border in Firefox and Opera. */\n",
       "        border: none;\n",
       "        /* Needs to be in here for Safari polyfill so background images work as expected. */\n",
       "        background-size: auto;\n",
       "    }\n",
       "    progress:not([value]), progress:not([value])::-webkit-progress-bar {\n",
       "        background: repeating-linear-gradient(45deg, #7e7e7e, #7e7e7e 10px, #5c5c5c 10px, #5c5c5c 20px);\n",
       "    }\n",
       "    .progress-bar-interrupted, .progress-bar-interrupted::-webkit-progress-bar {\n",
       "        background: #F44336;\n",
       "    }\n",
       "</style>\n"
      ],
      "text/plain": [
       "<IPython.core.display.HTML object>"
      ]
     },
     "metadata": {},
     "output_type": "display_data"
    },
    {
     "data": {
      "text/html": [
       "<table border=\"1\" class=\"dataframe\">\n",
       "  <thead>\n",
       "    <tr style=\"text-align: left;\">\n",
       "      <th>epoch</th>\n",
       "      <th>train_loss</th>\n",
       "      <th>valid_loss</th>\n",
       "      <th>batch_accuracy</th>\n",
       "      <th>time</th>\n",
       "    </tr>\n",
       "  </thead>\n",
       "  <tbody>\n",
       "    <tr>\n",
       "      <td>0</td>\n",
       "      <td>0.637089</td>\n",
       "      <td>0.502487</td>\n",
       "      <td>0.495584</td>\n",
       "      <td>00:00</td>\n",
       "    </tr>\n",
       "    <tr>\n",
       "      <td>1</td>\n",
       "      <td>0.347420</td>\n",
       "      <td>0.280807</td>\n",
       "      <td>0.727184</td>\n",
       "      <td>00:00</td>\n",
       "    </tr>\n",
       "    <tr>\n",
       "      <td>2</td>\n",
       "      <td>0.133979</td>\n",
       "      <td>0.154092</td>\n",
       "      <td>0.862120</td>\n",
       "      <td>00:00</td>\n",
       "    </tr>\n",
       "    <tr>\n",
       "      <td>3</td>\n",
       "      <td>0.062691</td>\n",
       "      <td>0.097470</td>\n",
       "      <td>0.918548</td>\n",
       "      <td>00:00</td>\n",
       "    </tr>\n",
       "    <tr>\n",
       "      <td>4</td>\n",
       "      <td>0.036190</td>\n",
       "      <td>0.073327</td>\n",
       "      <td>0.935721</td>\n",
       "      <td>00:00</td>\n",
       "    </tr>\n",
       "    <tr>\n",
       "      <td>5</td>\n",
       "      <td>0.025617</td>\n",
       "      <td>0.059761</td>\n",
       "      <td>0.949460</td>\n",
       "      <td>00:00</td>\n",
       "    </tr>\n",
       "    <tr>\n",
       "      <td>6</td>\n",
       "      <td>0.021122</td>\n",
       "      <td>0.051142</td>\n",
       "      <td>0.956820</td>\n",
       "      <td>00:00</td>\n",
       "    </tr>\n",
       "    <tr>\n",
       "      <td>7</td>\n",
       "      <td>0.019023</td>\n",
       "      <td>0.045308</td>\n",
       "      <td>0.964181</td>\n",
       "      <td>00:00</td>\n",
       "    </tr>\n",
       "    <tr>\n",
       "      <td>8</td>\n",
       "      <td>0.017892</td>\n",
       "      <td>0.041148</td>\n",
       "      <td>0.965653</td>\n",
       "      <td>00:00</td>\n",
       "    </tr>\n",
       "    <tr>\n",
       "      <td>9</td>\n",
       "      <td>0.017173</td>\n",
       "      <td>0.038045</td>\n",
       "      <td>0.967615</td>\n",
       "      <td>00:00</td>\n",
       "    </tr>\n",
       "  </tbody>\n",
       "</table>"
      ],
      "text/plain": [
       "<IPython.core.display.HTML object>"
      ]
     },
     "metadata": {},
     "output_type": "display_data"
    }
   ],
   "source": [
    "learn.fit(10, lr=lr)"
   ]
  },
  {
   "cell_type": "markdown",
   "metadata": {},
   "source": [
    "Therefore, there's nothing magic about PyTorch and fastai. They just add convenient pre-packaged pieces \n",
    "\n",
    "So with these classes, now we're going to replace the lienar model with a neural network:"
   ]
  },
  {
   "cell_type": "markdown",
   "metadata": {},
   "source": [
    "## Adding a Nonlinearity"
   ]
  },
  {
   "cell_type": "markdown",
   "metadata": {},
   "source": [
    "So far we have a procedure for optimizing the parameters of a function, a boring function: a simple linear classifier\n",
    "\n",
    "A linear classifier is super constrained in what it can do\n",
    "\n",
    "So we need to make it a little more complex (and able to handle more tasks), we need to add something non linear between two linear classifiers -> this is what gives us a neural network"
   ]
  },
  {
   "cell_type": "markdown",
   "metadata": {},
   "source": [
    "Here's a super simple example of a neural network:"
   ]
  },
  {
   "cell_type": "code",
   "execution_count": 862,
   "metadata": {},
   "outputs": [],
   "source": [
    "def simple_net(xb): \n",
    "    res = xb@w1 + b1\n",
    "    res = res.max(tensor(0.0))\n",
    "    res = res@w2 + b2\n",
    "    return res"
   ]
  },
  {
   "cell_type": "markdown",
   "metadata": {},
   "source": [
    "All we do is use a max function between two linear classifiers\n",
    "\n",
    "w1 and w2 are weight tensors\n",
    "b1 and b2 are bias tensors\n",
    "\n",
    "These are parameters that are initially randomly initialized just like before"
   ]
  },
  {
   "cell_type": "code",
   "execution_count": 863,
   "metadata": {},
   "outputs": [],
   "source": [
    "w1 = init_params((28*28,30))\n",
    "b1 = init_params(30)\n",
    "w2 = init_params((30,1))\n",
    "b2 = init_params(1)"
   ]
  },
  {
   "cell_type": "markdown",
   "metadata": {},
   "source": [
    "w1 has 30 output activations\n",
    "- This means w2 must have 30 input activations, so they match\n",
    "\n",
    "Therefore the first layer can construct 30 different features, each representing some different mix of pixels\n",
    "\n",
    "res.max(tensor(0.0)) is called a rectified linear unit (ReLu)\n",
    "- It just replaces every negative number with a zero and PyTorch offers it with F.relu"
   ]
  },
  {
   "cell_type": "code",
   "execution_count": 864,
   "metadata": {},
   "outputs": [
    {
     "data": {
      "image/png": "[encoded data removed]",
      "text/plain": [
       "<Figure size 600x400 with 1 Axes>"
      ]
     },
     "metadata": {},
     "output_type": "display_data"
    }
   ],
   "source": [
    "plot_function(F.relu)"
   ]
  },
  {
   "cell_type": "markdown",
   "metadata": {},
   "source": [
    "Basic idea: more linear layers = model do more computation = model more complex functions\n",
    "- But no point in putting linear layer after another cause that can just be replaced as one \n",
    "- Need to put a nonlinear function between them such as max\n",
    "- This decouples each layer\n",
    "\n",
    "So we can replace this code with something a bit simpler by taking advantage of PyTorch\n",
    "- The first and third lines are linear layers\n",
    "- The second line provides nonlinearity, so its an activation function\n",
    "\n",
    "nn.Sequential creates a module that will call each of the listed layers or function in turn\n",
    "\n",
    "nn.ReLu replaces all negative numbers with 0\n",
    "\n",
    "nn.linear contains both the weights and biases in a single class"
   ]
  },
  {
   "cell_type": "code",
   "execution_count": 865,
   "metadata": {},
   "outputs": [],
   "source": [
    "simple_net = nn.Sequential(\n",
    "    nn.Linear(28*28,30),\n",
    "    nn.ReLU(),\n",
    "    nn.Linear(30,1)\n",
    ")"
   ]
  },
  {
   "cell_type": "markdown",
   "metadata": {},
   "source": [
    "Since nn.Sequential is a module, we can get its parameters, which will return a list of all the parameters of all the modules it contains. SInce this is a deeper model, we'll use a lower learning rate and more epochs:"
   ]
  },
  {
   "cell_type": "code",
   "execution_count": 866,
   "metadata": {},
   "outputs": [],
   "source": [
    "learn = Learner(dls, simple_net, opt_func=SGD,\n",
    "                loss_func=mnist_loss, metrics=batch_accuracy)"
   ]
  },
  {
   "cell_type": "code",
   "execution_count": 867,
   "metadata": {},
   "outputs": [
    {
     "data": {
      "text/html": [
       "\n",
       "<style>\n",
       "    /* Turns off some styling */\n",
       "    progress {\n",
       "        /* gets rid of default border in Firefox and Opera. */\n",
       "        border: none;\n",
       "        /* Needs to be in here for Safari polyfill so background images work as expected. */\n",
       "        background-size: auto;\n",
       "    }\n",
       "    progress:not([value]), progress:not([value])::-webkit-progress-bar {\n",
       "        background: repeating-linear-gradient(45deg, #7e7e7e, #7e7e7e 10px, #5c5c5c 10px, #5c5c5c 20px);\n",
       "    }\n",
       "    .progress-bar-interrupted, .progress-bar-interrupted::-webkit-progress-bar {\n",
       "        background: #F44336;\n",
       "    }\n",
       "</style>\n"
      ],
      "text/plain": [
       "<IPython.core.display.HTML object>"
      ]
     },
     "metadata": {},
     "output_type": "display_data"
    },
    {
     "data": {
      "text/html": [
       "<table border=\"1\" class=\"dataframe\">\n",
       "  <thead>\n",
       "    <tr style=\"text-align: left;\">\n",
       "      <th>epoch</th>\n",
       "      <th>train_loss</th>\n",
       "      <th>valid_loss</th>\n",
       "      <th>batch_accuracy</th>\n",
       "      <th>time</th>\n",
       "    </tr>\n",
       "  </thead>\n",
       "  <tbody>\n",
       "    <tr>\n",
       "      <td>0</td>\n",
       "      <td>0.302103</td>\n",
       "      <td>0.414610</td>\n",
       "      <td>0.504416</td>\n",
       "      <td>00:00</td>\n",
       "    </tr>\n",
       "    <tr>\n",
       "      <td>1</td>\n",
       "      <td>0.143450</td>\n",
       "      <td>0.222009</td>\n",
       "      <td>0.814524</td>\n",
       "      <td>00:00</td>\n",
       "    </tr>\n",
       "    <tr>\n",
       "      <td>2</td>\n",
       "      <td>0.079629</td>\n",
       "      <td>0.111824</td>\n",
       "      <td>0.919038</td>\n",
       "      <td>00:00</td>\n",
       "    </tr>\n",
       "    <tr>\n",
       "      <td>3</td>\n",
       "      <td>0.052481</td>\n",
       "      <td>0.075768</td>\n",
       "      <td>0.943081</td>\n",
       "      <td>00:00</td>\n",
       "    </tr>\n",
       "    <tr>\n",
       "      <td>4</td>\n",
       "      <td>0.039876</td>\n",
       "      <td>0.059283</td>\n",
       "      <td>0.959764</td>\n",
       "      <td>00:00</td>\n",
       "    </tr>\n",
       "    <tr>\n",
       "      <td>5</td>\n",
       "      <td>0.033424</td>\n",
       "      <td>0.050052</td>\n",
       "      <td>0.965653</td>\n",
       "      <td>00:00</td>\n",
       "    </tr>\n",
       "    <tr>\n",
       "      <td>6</td>\n",
       "      <td>0.029711</td>\n",
       "      <td>0.044246</td>\n",
       "      <td>0.966634</td>\n",
       "      <td>00:00</td>\n",
       "    </tr>\n",
       "    <tr>\n",
       "      <td>7</td>\n",
       "      <td>0.027297</td>\n",
       "      <td>0.040288</td>\n",
       "      <td>0.968597</td>\n",
       "      <td>00:00</td>\n",
       "    </tr>\n",
       "    <tr>\n",
       "      <td>8</td>\n",
       "      <td>0.025558</td>\n",
       "      <td>0.037412</td>\n",
       "      <td>0.969578</td>\n",
       "      <td>00:00</td>\n",
       "    </tr>\n",
       "    <tr>\n",
       "      <td>9</td>\n",
       "      <td>0.024214</td>\n",
       "      <td>0.035215</td>\n",
       "      <td>0.971050</td>\n",
       "      <td>00:00</td>\n",
       "    </tr>\n",
       "    <tr>\n",
       "      <td>10</td>\n",
       "      <td>0.023125</td>\n",
       "      <td>0.033471</td>\n",
       "      <td>0.972522</td>\n",
       "      <td>00:00</td>\n",
       "    </tr>\n",
       "    <tr>\n",
       "      <td>11</td>\n",
       "      <td>0.022216</td>\n",
       "      <td>0.032043</td>\n",
       "      <td>0.973994</td>\n",
       "      <td>00:00</td>\n",
       "    </tr>\n",
       "    <tr>\n",
       "      <td>12</td>\n",
       "      <td>0.021443</td>\n",
       "      <td>0.030841</td>\n",
       "      <td>0.974975</td>\n",
       "      <td>00:00</td>\n",
       "    </tr>\n",
       "    <tr>\n",
       "      <td>13</td>\n",
       "      <td>0.020774</td>\n",
       "      <td>0.029809</td>\n",
       "      <td>0.975957</td>\n",
       "      <td>00:00</td>\n",
       "    </tr>\n",
       "    <tr>\n",
       "      <td>14</td>\n",
       "      <td>0.020188</td>\n",
       "      <td>0.028907</td>\n",
       "      <td>0.975957</td>\n",
       "      <td>00:00</td>\n",
       "    </tr>\n",
       "    <tr>\n",
       "      <td>15</td>\n",
       "      <td>0.019668</td>\n",
       "      <td>0.028109</td>\n",
       "      <td>0.976448</td>\n",
       "      <td>00:00</td>\n",
       "    </tr>\n",
       "    <tr>\n",
       "      <td>16</td>\n",
       "      <td>0.019204</td>\n",
       "      <td>0.027398</td>\n",
       "      <td>0.977920</td>\n",
       "      <td>00:00</td>\n",
       "    </tr>\n",
       "    <tr>\n",
       "      <td>17</td>\n",
       "      <td>0.018785</td>\n",
       "      <td>0.026759</td>\n",
       "      <td>0.978410</td>\n",
       "      <td>00:00</td>\n",
       "    </tr>\n",
       "    <tr>\n",
       "      <td>18</td>\n",
       "      <td>0.018404</td>\n",
       "      <td>0.026182</td>\n",
       "      <td>0.978410</td>\n",
       "      <td>00:00</td>\n",
       "    </tr>\n",
       "    <tr>\n",
       "      <td>19</td>\n",
       "      <td>0.018055</td>\n",
       "      <td>0.025656</td>\n",
       "      <td>0.979392</td>\n",
       "      <td>00:00</td>\n",
       "    </tr>\n",
       "    <tr>\n",
       "      <td>20</td>\n",
       "      <td>0.017734</td>\n",
       "      <td>0.025177</td>\n",
       "      <td>0.979392</td>\n",
       "      <td>00:00</td>\n",
       "    </tr>\n",
       "    <tr>\n",
       "      <td>21</td>\n",
       "      <td>0.017437</td>\n",
       "      <td>0.024738</td>\n",
       "      <td>0.980373</td>\n",
       "      <td>00:00</td>\n",
       "    </tr>\n",
       "    <tr>\n",
       "      <td>22</td>\n",
       "      <td>0.017160</td>\n",
       "      <td>0.024335</td>\n",
       "      <td>0.980373</td>\n",
       "      <td>00:00</td>\n",
       "    </tr>\n",
       "    <tr>\n",
       "      <td>23</td>\n",
       "      <td>0.016902</td>\n",
       "      <td>0.023963</td>\n",
       "      <td>0.980864</td>\n",
       "      <td>00:00</td>\n",
       "    </tr>\n",
       "    <tr>\n",
       "      <td>24</td>\n",
       "      <td>0.016659</td>\n",
       "      <td>0.023619</td>\n",
       "      <td>0.981354</td>\n",
       "      <td>00:00</td>\n",
       "    </tr>\n",
       "    <tr>\n",
       "      <td>25</td>\n",
       "      <td>0.016430</td>\n",
       "      <td>0.023302</td>\n",
       "      <td>0.980864</td>\n",
       "      <td>00:00</td>\n",
       "    </tr>\n",
       "    <tr>\n",
       "      <td>26</td>\n",
       "      <td>0.016215</td>\n",
       "      <td>0.023008</td>\n",
       "      <td>0.981354</td>\n",
       "      <td>00:00</td>\n",
       "    </tr>\n",
       "    <tr>\n",
       "      <td>27</td>\n",
       "      <td>0.016011</td>\n",
       "      <td>0.022734</td>\n",
       "      <td>0.981354</td>\n",
       "      <td>00:00</td>\n",
       "    </tr>\n",
       "    <tr>\n",
       "      <td>28</td>\n",
       "      <td>0.015817</td>\n",
       "      <td>0.022480</td>\n",
       "      <td>0.981354</td>\n",
       "      <td>00:00</td>\n",
       "    </tr>\n",
       "    <tr>\n",
       "      <td>29</td>\n",
       "      <td>0.015633</td>\n",
       "      <td>0.022243</td>\n",
       "      <td>0.981845</td>\n",
       "      <td>00:00</td>\n",
       "    </tr>\n",
       "    <tr>\n",
       "      <td>30</td>\n",
       "      <td>0.015457</td>\n",
       "      <td>0.022021</td>\n",
       "      <td>0.982336</td>\n",
       "      <td>00:00</td>\n",
       "    </tr>\n",
       "    <tr>\n",
       "      <td>31</td>\n",
       "      <td>0.015290</td>\n",
       "      <td>0.021814</td>\n",
       "      <td>0.982336</td>\n",
       "      <td>00:00</td>\n",
       "    </tr>\n",
       "    <tr>\n",
       "      <td>32</td>\n",
       "      <td>0.015129</td>\n",
       "      <td>0.021619</td>\n",
       "      <td>0.982826</td>\n",
       "      <td>00:00</td>\n",
       "    </tr>\n",
       "    <tr>\n",
       "      <td>33</td>\n",
       "      <td>0.014976</td>\n",
       "      <td>0.021437</td>\n",
       "      <td>0.982826</td>\n",
       "      <td>00:00</td>\n",
       "    </tr>\n",
       "    <tr>\n",
       "      <td>34</td>\n",
       "      <td>0.014829</td>\n",
       "      <td>0.021266</td>\n",
       "      <td>0.982826</td>\n",
       "      <td>00:00</td>\n",
       "    </tr>\n",
       "    <tr>\n",
       "      <td>35</td>\n",
       "      <td>0.014688</td>\n",
       "      <td>0.021105</td>\n",
       "      <td>0.982826</td>\n",
       "      <td>00:00</td>\n",
       "    </tr>\n",
       "    <tr>\n",
       "      <td>36</td>\n",
       "      <td>0.014552</td>\n",
       "      <td>0.020952</td>\n",
       "      <td>0.982826</td>\n",
       "      <td>00:00</td>\n",
       "    </tr>\n",
       "    <tr>\n",
       "      <td>37</td>\n",
       "      <td>0.014421</td>\n",
       "      <td>0.020808</td>\n",
       "      <td>0.982826</td>\n",
       "      <td>00:00</td>\n",
       "    </tr>\n",
       "    <tr>\n",
       "      <td>38</td>\n",
       "      <td>0.014295</td>\n",
       "      <td>0.020672</td>\n",
       "      <td>0.983317</td>\n",
       "      <td>00:00</td>\n",
       "    </tr>\n",
       "    <tr>\n",
       "      <td>39</td>\n",
       "      <td>0.014173</td>\n",
       "      <td>0.020542</td>\n",
       "      <td>0.983317</td>\n",
       "      <td>00:00</td>\n",
       "    </tr>\n",
       "  </tbody>\n",
       "</table>"
      ],
      "text/plain": [
       "<IPython.core.display.HTML object>"
      ]
     },
     "metadata": {},
     "output_type": "display_data"
    }
   ],
   "source": [
    "#hide_output\n",
    "learn.fit(40, 0.1)"
   ]
  },
  {
   "cell_type": "markdown",
   "metadata": {},
   "source": [
    "The training process is recorded in learn.recorder, with table of output stored in the values attribute.\n",
    "\n",
    "We can plot the accuracy over training as:"
   ]
  },
  {
   "cell_type": "code",
   "execution_count": 868,
   "metadata": {},
   "outputs": [
    {
     "data": {
      "image/png": "[encoded data removed]",
      "text/plain": [
       "<Figure size 640x480 with 1 Axes>"
      ]
     },
     "metadata": {},
     "output_type": "display_data"
    }
   ],
   "source": [
    "plt.plot(L(learn.recorder.values).itemgot(2));"
   ]
  },
  {
   "cell_type": "markdown",
   "metadata": {},
   "source": [
    "Final accuracy:"
   ]
  },
  {
   "cell_type": "code",
   "execution_count": 869,
   "metadata": {},
   "outputs": [
    {
     "data": {
      "text/plain": [
       "0.983316957950592"
      ]
     },
     "execution_count": 869,
     "metadata": {},
     "output_type": "execute_result"
    }
   ],
   "source": [
    "learn.recorder.values[-1][2]"
   ]
  },
  {
   "cell_type": "markdown",
   "metadata": {},
   "source": [
    "To recap:\n",
    "- We have a function that can solve any probelm to any level of accuracy (neural network) given correct set of parameters\n",
    "- We have a way to find the best set of parameters for any function (stochastic gradient descent)"
   ]
  },
  {
   "cell_type": "markdown",
   "metadata": {},
   "source": [
    "### Going Deeper"
   ]
  },
  {
   "cell_type": "markdown",
   "metadata": {},
   "source": [
    "No need to stop at just two linear layers -> we can keep adding more as long as we add nonlinearity between each pair of linear layers\n",
    "\n",
    "With a deeper model we do not need to use as many paremeters, smaller matricies with more layers gets better results than larger matrices with few layers\n",
    "\n",
    "We can train the model more quickly and take up less memory"
   ]
  },
  {
   "cell_type": "markdown",
   "metadata": {},
   "source": [
    "Here's what happens when we train an 18 layer model using same approach as we saw in ch1"
   ]
  },
  {
   "cell_type": "code",
   "execution_count": 870,
   "metadata": {},
   "outputs": [
    {
     "data": {
      "text/html": [
       "\n",
       "<style>\n",
       "    /* Turns off some styling */\n",
       "    progress {\n",
       "        /* gets rid of default border in Firefox and Opera. */\n",
       "        border: none;\n",
       "        /* Needs to be in here for Safari polyfill so background images work as expected. */\n",
       "        background-size: auto;\n",
       "    }\n",
       "    progress:not([value]), progress:not([value])::-webkit-progress-bar {\n",
       "        background: repeating-linear-gradient(45deg, #7e7e7e, #7e7e7e 10px, #5c5c5c 10px, #5c5c5c 20px);\n",
       "    }\n",
       "    .progress-bar-interrupted, .progress-bar-interrupted::-webkit-progress-bar {\n",
       "        background: #F44336;\n",
       "    }\n",
       "</style>\n"
      ],
      "text/plain": [
       "<IPython.core.display.HTML object>"
      ]
     },
     "metadata": {},
     "output_type": "display_data"
    },
    {
     "data": {
      "text/html": [
       "<table border=\"1\" class=\"dataframe\">\n",
       "  <thead>\n",
       "    <tr style=\"text-align: left;\">\n",
       "      <th>epoch</th>\n",
       "      <th>train_loss</th>\n",
       "      <th>valid_loss</th>\n",
       "      <th>accuracy</th>\n",
       "      <th>time</th>\n",
       "    </tr>\n",
       "  </thead>\n",
       "  <tbody>\n",
       "    <tr>\n",
       "      <td>0</td>\n",
       "      <td>0.060135</td>\n",
       "      <td>0.005332</td>\n",
       "      <td>0.998528</td>\n",
       "      <td>00:12</td>\n",
       "    </tr>\n",
       "  </tbody>\n",
       "</table>"
      ],
      "text/plain": [
       "<IPython.core.display.HTML object>"
      ]
     },
     "metadata": {},
     "output_type": "display_data"
    }
   ],
   "source": [
    "dls = ImageDataLoaders.from_folder(path)\n",
    "learn = vision_learner(dls, resnet18, pretrained=False,\n",
    "                    loss_func=F.cross_entropy, metrics=accuracy)\n",
    "learn.fit_one_cycle(1, 0.1)"
   ]
  }
 ],
 "metadata": {
  "kernelspec": {
   "display_name": ".venv",
   "language": "python",
   "name": "python3"
  },
  "language_info": {
   "codemirror_mode": {
    "name": "ipython",
    "version": 3
   },
   "file_extension": ".py",
   "mimetype": "text/x-python",
   "name": "python",
   "nbconvert_exporter": "python",
   "pygments_lexer": "ipython3",
   "version": "3.12.3"
  }
 },
 "nbformat": 4,
 "nbformat_minor": 2
}
